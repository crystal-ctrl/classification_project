{
 "cells": [
  {
   "cell_type": "code",
   "execution_count": 1,
   "id": "thick-norway",
   "metadata": {},
   "outputs": [],
   "source": [
    "import pandas as pd\n",
    "import numpy as np\n",
    "import matplotlib.pyplot as plt\n",
    "import seaborn as sns\n",
    "%matplotlib inline\n",
    "\n",
    "from sklearn.model_selection import train_test_split\n",
    "from sklearn.preprocessing import StandardScaler\n",
    "from sklearn.linear_model import LogisticRegression\n",
    "\n",
    "from sklearn.metrics import classification_report\n",
    "from sklearn.metrics import precision_score, recall_score, precision_recall_curve,f1_score, fbeta_score\n",
    "from sklearn.metrics import confusion_matrix\n",
    "from sklearn.metrics import roc_auc_score, roc_curve\n",
    "from sklearn.metrics import roc_curve, auc"
   ]
  },
  {
   "cell_type": "code",
   "execution_count": 2,
   "id": "virtual-arbor",
   "metadata": {},
   "outputs": [],
   "source": [
    "import warnings\n",
    "warnings.filterwarnings('ignore')"
   ]
  },
  {
   "cell_type": "code",
   "execution_count": 4,
   "id": "integrated-customs",
   "metadata": {},
   "outputs": [],
   "source": [
    "df = pd.read_csv('../data/model_ready.csv')"
   ]
  },
  {
   "cell_type": "code",
   "execution_count": 5,
   "id": "funky-congo",
   "metadata": {},
   "outputs": [
    {
     "name": "stdout",
     "output_type": "stream",
     "text": [
      "1    112056\n",
      "0     77106\n",
      "Name: success, dtype: int64\n"
     ]
    },
    {
     "data": {
      "image/png": "[encoded data removed]",
      "text/plain": [
       "<Figure size 432x288 with 1 Axes>"
      ]
     },
     "metadata": {
      "needs_background": "light"
     },
     "output_type": "display_data"
    }
   ],
   "source": [
    "# check for class imbalance\n",
    "print(df.success.value_counts())\n",
    "sns.countplot(df.success);"
   ]
  },
  {
   "cell_type": "code",
   "execution_count": 6,
   "id": "danish-citizen",
   "metadata": {},
   "outputs": [
    {
     "name": "stdout",
     "output_type": "stream",
     "text": [
      "1    0.592381\n",
      "0    0.407619\n",
      "Name: success, dtype: float64\n"
     ]
    },
    {
     "data": {
      "image/png": "[encoded data removed]",
      "text/plain": [
       "<Figure size 432x288 with 1 Axes>"
      ]
     },
     "metadata": {
      "needs_background": "light"
     },
     "output_type": "display_data"
    }
   ],
   "source": [
    "target = df.success.value_counts(normalize=True) \n",
    "print(target)\n",
    "sns.barplot(target.index, target.values)\n",
    "plt.title('Kickstarter Success Ratio')\n",
    "plt.ylabel('Percentage of Campaign', fontsize=12);"
   ]
  },
  {
   "cell_type": "code",
   "execution_count": 7,
   "id": "gross-scanner",
   "metadata": {},
   "outputs": [],
   "source": [
    "# it's mildly imbalanced but not too bad"
   ]
  },
  {
   "cell_type": "code",
   "execution_count": 8,
   "id": "drawn-conviction",
   "metadata": {},
   "outputs": [
    {
     "data": {
      "text/plain": [
       "Index(['success', 'goal_usd', 'country_US', 'cam_duration', 'prep_duration',\n",
       "       'desc_length', 'staff_pick_True', 'main_category_Comics',\n",
       "       'main_category_Crafts', 'main_category_Dance', 'main_category_Design',\n",
       "       'main_category_Fashion', 'main_category_Film & Video',\n",
       "       'main_category_Food', 'main_category_Games', 'main_category_Journalism',\n",
       "       'main_category_Music', 'main_category_Photography',\n",
       "       'main_category_Publishing', 'main_category_Technology',\n",
       "       'main_category_Theater'],\n",
       "      dtype='object')"
      ]
     },
     "execution_count": 8,
     "metadata": {},
     "output_type": "execute_result"
    }
   ],
   "source": [
    "df.columns"
   ]
  },
  {
   "cell_type": "code",
   "execution_count": 9,
   "id": "empty-massachusetts",
   "metadata": {},
   "outputs": [
    {
     "data": {
      "text/plain": [
       "Index(['success', 'goal_usd', 'country_US', 'cam_duration', 'prep_duration',\n",
       "       'desc_length', 'staff_pick_True', 'Comics', 'Crafts', 'Dance', 'Design',\n",
       "       'Fashion', 'Film_Video', 'Food', 'Games', 'Journalism', 'Music',\n",
       "       'Photography', 'Publishing', 'Technology', 'Theater'],\n",
       "      dtype='object')"
      ]
     },
     "execution_count": 9,
     "metadata": {},
     "output_type": "execute_result"
    }
   ],
   "source": [
    "df.rename(columns={'main_category_Comics': 'Comics',\n",
    "                   'main_category_Crafts': 'Crafts', \n",
    "                   'main_category_Dance': 'Dance', \n",
    "                   'main_category_Design': 'Design',\n",
    "                   'main_category_Fashion': 'Fashion', \n",
    "                   'main_category_Film & Video': 'Film_Video',\n",
    "                   'main_category_Food': 'Food', \n",
    "                   'main_category_Games': 'Games', \n",
    "                   'main_category_Journalism': 'Journalism',\n",
    "                   'main_category_Music': 'Music', \n",
    "                   'main_category_Photography': 'Photography',\n",
    "                   'main_category_Publishing': 'Publishing', \n",
    "                   'main_category_Technology': 'Technology',\n",
    "                   'main_category_Theater': 'Theater'}, inplace=True)\n",
    "df.columns"
   ]
  },
  {
   "cell_type": "code",
   "execution_count": 10,
   "id": "twenty-offense",
   "metadata": {},
   "outputs": [],
   "source": [
    "def make_confusion_matrix(model, threshold=0.6):\n",
    "    # Predict class 1 if probability of being in class 1 is greater than threshold\n",
    "    # (model.predict(X_test) does this automatically with a threshold of 0.5)\n",
    "    y_predict = (model.predict_proba(X_test_sc)[:,1] >=threshold)\n",
    "    success_confusion = confusion_matrix(y_test, y_predict)\n",
    "    plt.figure(dpi=80)\n",
    "    sns.heatmap(success_confusion, cmap=plt.cm.Blues, annot=True, square=True, fmt='d',\n",
    "           xticklabels=['fail','success'],\n",
    "           yticklabels=['fail','success']);\n",
    "    plt.xlabel('prediction')\n",
    "    plt.ylabel('actual')"
   ]
  },
  {
   "cell_type": "markdown",
   "id": "yellow-rotation",
   "metadata": {},
   "source": [
    "### Subset 1"
   ]
  },
  {
   "cell_type": "code",
   "execution_count": 11,
   "id": "posted-review",
   "metadata": {},
   "outputs": [
    {
     "data": {
      "text/html": [
       "<div>\n",
       "<style scoped>\n",
       "    .dataframe tbody tr th:only-of-type {\n",
       "        vertical-align: middle;\n",
       "    }\n",
       "\n",
       "    .dataframe tbody tr th {\n",
       "        vertical-align: top;\n",
       "    }\n",
       "\n",
       "    .dataframe thead th {\n",
       "        text-align: right;\n",
       "    }\n",
       "</style>\n",
       "<table border=\"1\" class=\"dataframe\">\n",
       "  <thead>\n",
       "    <tr style=\"text-align: right;\">\n",
       "      <th></th>\n",
       "      <th>success</th>\n",
       "      <th>goal_usd</th>\n",
       "      <th>country_US</th>\n",
       "      <th>cam_duration</th>\n",
       "    </tr>\n",
       "  </thead>\n",
       "  <tbody>\n",
       "    <tr>\n",
       "      <th>0</th>\n",
       "      <td>1</td>\n",
       "      <td>5227.00000</td>\n",
       "      <td>1</td>\n",
       "      <td>29</td>\n",
       "    </tr>\n",
       "    <tr>\n",
       "      <th>1</th>\n",
       "      <td>0</td>\n",
       "      <td>47878.24160</td>\n",
       "      <td>0</td>\n",
       "      <td>30</td>\n",
       "    </tr>\n",
       "    <tr>\n",
       "      <th>2</th>\n",
       "      <td>1</td>\n",
       "      <td>1000.00000</td>\n",
       "      <td>1</td>\n",
       "      <td>30</td>\n",
       "    </tr>\n",
       "    <tr>\n",
       "      <th>3</th>\n",
       "      <td>1</td>\n",
       "      <td>1031.74888</td>\n",
       "      <td>0</td>\n",
       "      <td>30</td>\n",
       "    </tr>\n",
       "    <tr>\n",
       "      <th>4</th>\n",
       "      <td>1</td>\n",
       "      <td>550.00000</td>\n",
       "      <td>1</td>\n",
       "      <td>30</td>\n",
       "    </tr>\n",
       "  </tbody>\n",
       "</table>\n",
       "</div>"
      ],
      "text/plain": [
       "   success     goal_usd  country_US  cam_duration\n",
       "0        1   5227.00000           1            29\n",
       "1        0  47878.24160           0            30\n",
       "2        1   1000.00000           1            30\n",
       "3        1   1031.74888           0            30\n",
       "4        1    550.00000           1            30"
      ]
     },
     "execution_count": 11,
     "metadata": {},
     "output_type": "execute_result"
    }
   ],
   "source": [
    "# baselining with small subset of features\n",
    "subset_1 = df.loc[:,['success', 'goal_usd', 'country_US', 'cam_duration']]\n",
    "subset_1.head()"
   ]
  },
  {
   "cell_type": "code",
   "execution_count": 12,
   "id": "annoying-packet",
   "metadata": {},
   "outputs": [],
   "source": [
    "X, y = subset_1.drop(['success'], axis=1), subset_1.success\n",
    "\n",
    "X_train, X_test, y_train, y_test = train_test_split(X, y, test_size=0.2, random_state=42)\n",
    "\n",
    "scaler = StandardScaler()\n",
    "X_train_sc = scaler.fit_transform(X_train)\n",
    "X_test_sc = scaler.transform(X_test)"
   ]
  },
  {
   "cell_type": "code",
   "execution_count": 13,
   "id": "alpine-transparency",
   "metadata": {},
   "outputs": [
    {
     "name": "stdout",
     "output_type": "stream",
     "text": [
      "              precision    recall  f1-score   support\n",
      "\n",
      "           0       0.66      0.31      0.42     15415\n",
      "           1       0.65      0.89      0.75     22418\n",
      "\n",
      "    accuracy                           0.65     37833\n",
      "   macro avg       0.66      0.60      0.59     37833\n",
      "weighted avg       0.66      0.65      0.62     37833\n",
      "\n"
     ]
    }
   ],
   "source": [
    "lr = LogisticRegression()\n",
    "lr.fit(X_train_sc, y_train)\n",
    "lr_pred = lr.predict(X_test_sc)\n",
    "lr_confusion = confusion_matrix(y_test, lr_pred)\n",
    "\n",
    "lr_ac = lr.score(X_test_sc, y_test)\n",
    "lr_precision = precision_score(y_test, lr_pred)\n",
    "lr_recall = recall_score(y_test, lr_pred)\n",
    "lr_f1 = f1_score(y_test, lr_pred)\n",
    "\n",
    "lr_y_score = lr.predict_proba(X_test_sc)[:,1]\n",
    "lr_fpr, lr_tpr, lr_auc_thresholds = roc_curve(y_test, lr_y_score)\n",
    "roc_auc_lr = auc(lr_fpr, lr_tpr)\n",
    "\n",
    "print(classification_report(y_test, lr_pred))"
   ]
  },
  {
   "cell_type": "code",
   "execution_count": 14,
   "id": "fluid-airplane",
   "metadata": {},
   "outputs": [
    {
     "name": "stdout",
     "output_type": "stream",
     "text": [
      "Logistic Regression validation metrics with subset 1: \n",
      " Accuracy: 0.6536 \n",
      " Precision: 0.6515 \n",
      " Recall: 0.8930 \n",
      " F1: 0.7534 \n",
      " ROC: 0.6492\n"
     ]
    }
   ],
   "source": [
    "print('Logistic Regression validation metrics with subset 1: \\n Accuracy: %.4f \\n Precision: %.4f \\n Recall: %.4f \\n F1: %.4f \\n ROC: %.4f' %\n",
    "        (lr_ac, \n",
    "         lr_precision, \n",
    "         lr_recall,\n",
    "         lr_f1,\n",
    "         roc_auc_lr)\n",
    "     )"
   ]
  },
  {
   "cell_type": "code",
   "execution_count": 16,
   "id": "saving-detective",
   "metadata": {
    "scrolled": true
   },
   "outputs": [
    {
     "data": {
      "image/png": "[encoded data removed]",
      "text/plain": [
       "<Figure size 480x320 with 2 Axes>"
      ]
     },
     "metadata": {
      "needs_background": "light"
     },
     "output_type": "display_data"
    }
   ],
   "source": [
    "make_confusion_matrix(lr)"
   ]
  },
  {
   "cell_type": "markdown",
   "id": "permanent-distribution",
   "metadata": {},
   "source": [
    "### Subset 2"
   ]
  },
  {
   "cell_type": "code",
   "execution_count": 17,
   "id": "expected-maker",
   "metadata": {},
   "outputs": [
    {
     "data": {
      "text/html": [
       "<div>\n",
       "<style scoped>\n",
       "    .dataframe tbody tr th:only-of-type {\n",
       "        vertical-align: middle;\n",
       "    }\n",
       "\n",
       "    .dataframe tbody tr th {\n",
       "        vertical-align: top;\n",
       "    }\n",
       "\n",
       "    .dataframe thead th {\n",
       "        text-align: right;\n",
       "    }\n",
       "</style>\n",
       "<table border=\"1\" class=\"dataframe\">\n",
       "  <thead>\n",
       "    <tr style=\"text-align: right;\">\n",
       "      <th></th>\n",
       "      <th>success</th>\n",
       "      <th>goal_usd</th>\n",
       "      <th>country_US</th>\n",
       "      <th>cam_duration</th>\n",
       "      <th>prep_duration</th>\n",
       "      <th>desc_length</th>\n",
       "    </tr>\n",
       "  </thead>\n",
       "  <tbody>\n",
       "    <tr>\n",
       "      <th>0</th>\n",
       "      <td>1</td>\n",
       "      <td>5227.00000</td>\n",
       "      <td>1</td>\n",
       "      <td>29</td>\n",
       "      <td>16</td>\n",
       "      <td>21</td>\n",
       "    </tr>\n",
       "    <tr>\n",
       "      <th>1</th>\n",
       "      <td>0</td>\n",
       "      <td>47878.24160</td>\n",
       "      <td>0</td>\n",
       "      <td>30</td>\n",
       "      <td>0</td>\n",
       "      <td>22</td>\n",
       "    </tr>\n",
       "    <tr>\n",
       "      <th>2</th>\n",
       "      <td>1</td>\n",
       "      <td>1000.00000</td>\n",
       "      <td>1</td>\n",
       "      <td>30</td>\n",
       "      <td>128</td>\n",
       "      <td>26</td>\n",
       "    </tr>\n",
       "    <tr>\n",
       "      <th>3</th>\n",
       "      <td>1</td>\n",
       "      <td>1031.74888</td>\n",
       "      <td>0</td>\n",
       "      <td>30</td>\n",
       "      <td>17</td>\n",
       "      <td>4</td>\n",
       "    </tr>\n",
       "    <tr>\n",
       "      <th>4</th>\n",
       "      <td>1</td>\n",
       "      <td>550.00000</td>\n",
       "      <td>1</td>\n",
       "      <td>30</td>\n",
       "      <td>4</td>\n",
       "      <td>25</td>\n",
       "    </tr>\n",
       "  </tbody>\n",
       "</table>\n",
       "</div>"
      ],
      "text/plain": [
       "   success     goal_usd  country_US  cam_duration  prep_duration  desc_length\n",
       "0        1   5227.00000           1            29             16           21\n",
       "1        0  47878.24160           0            30              0           22\n",
       "2        1   1000.00000           1            30            128           26\n",
       "3        1   1031.74888           0            30             17            4\n",
       "4        1    550.00000           1            30              4           25"
      ]
     },
     "execution_count": 17,
     "metadata": {},
     "output_type": "execute_result"
    }
   ],
   "source": [
    "subset_2 = df.loc[:,['success', 'goal_usd', 'country_US', 'cam_duration','prep_duration',\n",
    "       'desc_length',]]\n",
    "subset_2.head()"
   ]
  },
  {
   "cell_type": "code",
   "execution_count": 18,
   "id": "fluid-colombia",
   "metadata": {},
   "outputs": [],
   "source": [
    "X, y = subset_2.drop(['success'], axis=1), subset_2.success\n",
    "\n",
    "X_train, X_test, y_train, y_test = train_test_split(X, y, test_size=0.2, random_state=42)\n",
    "\n",
    "scaler = StandardScaler()\n",
    "X_train_sc = scaler.fit_transform(X_train)\n",
    "X_test_sc = scaler.transform(X_test)"
   ]
  },
  {
   "cell_type": "code",
   "execution_count": 19,
   "id": "drawn-reynolds",
   "metadata": {},
   "outputs": [
    {
     "name": "stdout",
     "output_type": "stream",
     "text": [
      "              precision    recall  f1-score   support\n",
      "\n",
      "           0       0.66      0.30      0.41     15415\n",
      "           1       0.65      0.90      0.75     22418\n",
      "\n",
      "    accuracy                           0.65     37833\n",
      "   macro avg       0.66      0.60      0.58     37833\n",
      "weighted avg       0.66      0.65      0.62     37833\n",
      "\n"
     ]
    }
   ],
   "source": [
    "lr2 = LogisticRegression(C=1000) #no regularization\n",
    "lr2.fit(X_train_sc, y_train)\n",
    "lr2_pred = lr2.predict(X_test_sc)\n",
    "lr2_confusion = confusion_matrix(y_test, lr2_pred)\n",
    "\n",
    "lr2_ac = lr2.score(X_test_sc, y_test)\n",
    "lr2_precision = precision_score(y_test, lr2_pred)\n",
    "lr2_recall = recall_score(y_test, lr2_pred)\n",
    "lr2_f1 = f1_score(y_test, lr2_pred)\n",
    "\n",
    "lr2_y_score = lr2.predict_proba(X_test_sc)[:,1]\n",
    "lr2_fpr, lr2_tpr, lr2_auc_thresholds = roc_curve(y_test, lr2_y_score)\n",
    "roc_auc_lr2 = auc(lr2_fpr, lr2_tpr)\n",
    "\n",
    "print(classification_report(y_test, lr2_pred))"
   ]
  },
  {
   "cell_type": "code",
   "execution_count": 20,
   "id": "wireless-zealand",
   "metadata": {},
   "outputs": [
    {
     "name": "stdout",
     "output_type": "stream",
     "text": [
      "Logistic Regression validation metrics with subset 2: \n",
      " Accuracy: 0.6533 \n",
      " Precision: 0.6508 \n",
      " Recall: 0.8954 \n",
      " F1: 0.7537 \n",
      " ROC: 0.6604\n"
     ]
    }
   ],
   "source": [
    "print('Logistic Regression validation metrics with subset 2: \\n Accuracy: %.4f \\n Precision: %.4f \\n Recall: %.4f \\n F1: %.4f \\n ROC: %.4f' %\n",
    "        (lr2_ac, \n",
    "         lr2_precision, \n",
    "         lr2_recall,\n",
    "         lr2_f1,\n",
    "         roc_auc_lr2)\n",
    "     )"
   ]
  },
  {
   "cell_type": "code",
   "execution_count": 21,
   "id": "literary-tumor",
   "metadata": {},
   "outputs": [
    {
     "data": {
      "image/png": "[encoded data removed]",
      "text/plain": [
       "<Figure size 480x320 with 2 Axes>"
      ]
     },
     "metadata": {
      "needs_background": "light"
     },
     "output_type": "display_data"
    }
   ],
   "source": [
    "make_confusion_matrix(lr2)"
   ]
  },
  {
   "cell_type": "markdown",
   "id": "organized-stationery",
   "metadata": {},
   "source": [
    "### All features"
   ]
  },
  {
   "cell_type": "code",
   "execution_count": 22,
   "id": "occasional-worth",
   "metadata": {},
   "outputs": [],
   "source": [
    "X, y = df.drop(['success'], axis=1), df.success\n",
    "\n",
    "X_train, X_test, y_train, y_test = train_test_split(X, y, test_size=0.2, random_state=42)\n",
    "\n",
    "scaler = StandardScaler()\n",
    "X_train_sc = scaler.fit_transform(X_train)\n",
    "X_test_sc = scaler.transform(X_test)"
   ]
  },
  {
   "cell_type": "code",
   "execution_count": 23,
   "id": "amino-leisure",
   "metadata": {},
   "outputs": [
    {
     "name": "stdout",
     "output_type": "stream",
     "text": [
      "              precision    recall  f1-score   support\n",
      "\n",
      "           0       0.69      0.52      0.59     15415\n",
      "           1       0.72      0.84      0.78     22418\n",
      "\n",
      "    accuracy                           0.71     37833\n",
      "   macro avg       0.71      0.68      0.68     37833\n",
      "weighted avg       0.71      0.71      0.70     37833\n",
      "\n"
     ]
    }
   ],
   "source": [
    "lr3 = LogisticRegression(C=1000) #no regularization\n",
    "lr3.fit(X_train_sc, y_train)\n",
    "lr3_pred = lr3.predict(X_test_sc)\n",
    "lr3_confusion = confusion_matrix(y_test, lr3_pred)\n",
    "\n",
    "lr3_ac = lr3.score(X_test_sc, y_test)\n",
    "lr3_precision = precision_score(y_test, lr3_pred)\n",
    "lr3_recall = recall_score(y_test, lr3_pred)\n",
    "lr3_f1 = f1_score(y_test, lr3_pred)\n",
    "\n",
    "lr3_y_score = lr3.predict_proba(X_test_sc)[:,1]\n",
    "lr3_fpr, lr3_tpr, lr3_auc_thresholds = roc_curve(y_test, lr3_y_score)\n",
    "roc_auc_lr3 = auc(lr3_fpr, lr3_tpr)\n",
    "\n",
    "print(classification_report(y_test, lr3_pred))"
   ]
  },
  {
   "cell_type": "code",
   "execution_count": 24,
   "id": "becoming-jungle",
   "metadata": {},
   "outputs": [
    {
     "name": "stdout",
     "output_type": "stream",
     "text": [
      "Logistic Regression validation metrics with full dataset: \n",
      " Accuracy: 0.7102 \n",
      " Precision: 0.7176 \n",
      " Recall: 0.8424 \n",
      " F1: 0.7750 \n",
      " ROC: 0.7680\n"
     ]
    }
   ],
   "source": [
    "print('Logistic Regression validation metrics with full dataset: \\n Accuracy: %.4f \\n Precision: %.4f \\n Recall: %.4f \\n F1: %.4f \\n ROC: %.4f' %\n",
    "        (lr3_ac, \n",
    "         lr3_precision, \n",
    "         lr3_recall,\n",
    "         lr3_f1,\n",
    "         roc_auc_lr3)\n",
    "     )"
   ]
  },
  {
   "cell_type": "code",
   "execution_count": 25,
   "id": "greenhouse-market",
   "metadata": {},
   "outputs": [
    {
     "data": {
      "image/png": "[encoded data removed]",
      "text/plain": [
       "<Figure size 480x320 with 2 Axes>"
      ]
     },
     "metadata": {
      "needs_background": "light"
     },
     "output_type": "display_data"
    }
   ],
   "source": [
    "make_confusion_matrix(lr3)"
   ]
  },
  {
   "cell_type": "code",
   "execution_count": 26,
   "id": "subjective-force",
   "metadata": {
    "scrolled": true
   },
   "outputs": [
    {
     "data": {
      "image/png": "[encoded data removed]",
      "text/plain": [
       "<Figure size 360x360 with 1 Axes>"
      ]
     },
     "metadata": {
      "needs_background": "light"
     },
     "output_type": "display_data"
    }
   ],
   "source": [
    "plt.figure(figsize=(5,5))\n",
    "lw = 2\n",
    "plt.plot(lr_fpr, lr_tpr, color='black', lw=lw, \n",
    "         label='subset 1 (area= %0.2f)' %roc_auc_lr)\n",
    "plt.plot(lr2_fpr, lr2_tpr, color='blue', lw=lw, \n",
    "         label='subset 2 (area= %0.2f)' %roc_auc_lr2)\n",
    "plt.plot(lr3_fpr, lr3_tpr, color='green', lw=lw, \n",
    "         label='full data (area= %0.2f)' %roc_auc_lr3)\n",
    "plt.plot([0,1],[0,1],c='violet',ls='--')\n",
    "plt.xlim([-0.05,1.05])\n",
    "plt.ylim([-0.05,1.05])\n",
    "\n",
    "\n",
    "plt.xlabel('False positive rate')\n",
    "plt.ylabel('True positive rate')\n",
    "plt.title('ROC curve')\n",
    "plt.legend(loc='lower right');"
   ]
  },
  {
   "cell_type": "code",
   "execution_count": 27,
   "id": "available-application",
   "metadata": {},
   "outputs": [
    {
     "data": {
      "image/png": "[encoded data removed]",
      "text/plain": [
       "<Figure size 480x320 with 1 Axes>"
      ]
     },
     "metadata": {
      "needs_background": "light"
     },
     "output_type": "display_data"
    }
   ],
   "source": [
    "# We can also use the probabilities to make a curve showing us how recall \n",
    "# and thresholds trade off \n",
    "\n",
    "precision_curve, recall_curve, threshold_curve = precision_recall_curve(y_test, lr3.predict_proba(X_test_sc)[:,1] )\n",
    "\n",
    "plt.figure(dpi=80)\n",
    "plt.plot(threshold_curve, precision_curve[1:],label='precision')\n",
    "plt.plot(threshold_curve, recall_curve[1:], label='recall')\n",
    "plt.legend(loc='lower left')\n",
    "plt.xlabel('Threshold (above this probability, label as success)');\n",
    "plt.title('Precision and Recall Curves');"
   ]
  },
  {
   "cell_type": "code",
   "execution_count": 28,
   "id": "aerial-defensive",
   "metadata": {},
   "outputs": [
    {
     "data": {
      "image/png": "[encoded data removed]",
      "text/plain": [
       "<Figure size 480x320 with 1 Axes>"
      ]
     },
     "metadata": {
      "needs_background": "light"
     },
     "output_type": "display_data"
    }
   ],
   "source": [
    "plt.figure(dpi=80)\n",
    "plt.plot(recall_curve[1:], precision_curve[1:],label='precision')\n",
    "plt.xlabel(\"Recall\")\n",
    "plt.ylabel(\"Precision\")\n",
    "plt.title(\"Precision-Recall Curve\");"
   ]
  },
  {
   "cell_type": "code",
   "execution_count": 29,
   "id": "twelve-clearing",
   "metadata": {},
   "outputs": [
    {
     "name": "stdout",
     "output_type": "stream",
     "text": [
      "Log-loss on logit: 0.5579\n",
      "Log-loss on dummy classifier: 0.5579\n",
      "Logistic accuracy: 0.7102\n",
      "Dummy accuracy: 0.5926\n"
     ]
    }
   ],
   "source": [
    "from sklearn.metrics import log_loss\n",
    "\n",
    "print(\"Log-loss on logit: {:6.4f}\".format(log_loss(y_test, lr3.predict_proba(X_test_sc))))\n",
    "\n",
    "from sklearn.dummy import DummyClassifier\n",
    "\n",
    "dc = DummyClassifier()\n",
    "dc.fit(X_train, y_train)\n",
    "print(\"Log-loss on dummy classifier: {:6.4f}\".format(log_loss(y_test, lr3.predict_proba(X_test_sc))))\n",
    "\n",
    "print(\"Logistic accuracy: {:6.4f}\".format(lr3.score(X_test_sc, y_test)))\n",
    "print(\"Dummy accuracy: {:6.4f}\".format(dc.score(X_test, y_test)))"
   ]
  },
  {
   "cell_type": "code",
   "execution_count": null,
   "id": "adult-territory",
   "metadata": {},
   "outputs": [],
   "source": []
  }
 ],
 "metadata": {
  "kernelspec": {
   "display_name": "Python [conda env:metis] *",
   "language": "python",
   "name": "conda-env-metis-py"
  },
  "language_info": {
   "codemirror_mode": {
    "name": "ipython",
    "version": 3
   },
   "file_extension": ".py",
   "mimetype": "text/x-python",
   "name": "python",
   "nbconvert_exporter": "python",
   "pygments_lexer": "ipython3",
   "version": "3.8.8"
  }
 },
 "nbformat": 4,
 "nbformat_minor": 5
}
