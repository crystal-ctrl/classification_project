{
 "cells": [
  {
   "cell_type": "code",
   "execution_count": 1,
   "id": "baking-prisoner",
   "metadata": {},
   "outputs": [],
   "source": [
    "import pandas as pd\n",
    "import numpy as np\n",
    "import matplotlib.pyplot as plt\n",
    "import seaborn as sns\n",
    "%matplotlib inline\n",
    "\n",
    "from sklearn.model_selection import train_test_split\n",
    "from sklearn.preprocessing import StandardScaler\n",
    "from sklearn.neighbors import KNeighborsClassifier\n",
    "from sklearn.linear_model import LogisticRegression\n",
    "from sklearn import naive_bayes, tree\n",
    "from sklearn.svm import LinearSVC, SVC\n",
    "from sklearn.tree import DecisionTreeClassifier\n",
    "from sklearn.ensemble import RandomForestClassifier\n",
    "from sklearn.model_selection import GridSearchCV\n",
    "\n",
    "from sklearn.metrics import classification_report\n",
    "from sklearn.metrics import precision_score, recall_score, precision_recall_curve,f1_score, fbeta_score\n",
    "from sklearn.metrics import confusion_matrix\n",
    "from sklearn.metrics import roc_auc_score, roc_curve\n",
    "from sklearn.metrics import roc_curve, auc"
   ]
  },
  {
   "cell_type": "code",
   "execution_count": null,
   "id": "removed-programmer",
   "metadata": {},
   "outputs": [],
   "source": [
    "import warnings\n",
    "warnings.filterwarnings('ignore')"
   ]
  },
  {
   "cell_type": "code",
   "execution_count": 3,
   "id": "angry-painting",
   "metadata": {},
   "outputs": [],
   "source": [
    "df = pd.read_csv('../data/model_ready.csv')"
   ]
  },
  {
   "cell_type": "code",
   "execution_count": 4,
   "id": "registered-article",
   "metadata": {},
   "outputs": [
    {
     "data": {
      "text/plain": [
       "Index(['success', 'goal_usd', 'country_US', 'cam_duration', 'prep_duration',\n",
       "       'desc_length', 'staff_pick_True', 'Comics', 'Crafts', 'Dance', 'Design',\n",
       "       'Fashion', 'Film_Video', 'Food', 'Games', 'Journalism', 'Music',\n",
       "       'Photography', 'Publishing', 'Technology', 'Theater'],\n",
       "      dtype='object')"
      ]
     },
     "execution_count": 4,
     "metadata": {},
     "output_type": "execute_result"
    }
   ],
   "source": [
    "df.drop(['spotlight_True'], axis=1, inplace=True)\n",
    "df.rename(columns={'main_category_Comics': 'Comics',\n",
    "                   'main_category_Crafts': 'Crafts', \n",
    "                   'main_category_Dance': 'Dance', \n",
    "                   'main_category_Design': 'Design',\n",
    "                   'main_category_Fashion': 'Fashion', \n",
    "                   'main_category_Film & Video': 'Film_Video',\n",
    "                   'main_category_Food': 'Food', \n",
    "                   'main_category_Games': 'Games', \n",
    "                   'main_category_Journalism': 'Journalism',\n",
    "                   'main_category_Music': 'Music', \n",
    "                   'main_category_Photography': 'Photography',\n",
    "                   'main_category_Publishing': 'Publishing', \n",
    "                   'main_category_Technology': 'Technology',\n",
    "                   'main_category_Theater': 'Theater'}, inplace=True)\n",
    "df.columns"
   ]
  },
  {
   "cell_type": "code",
   "execution_count": 6,
   "id": "protective-brave",
   "metadata": {},
   "outputs": [],
   "source": [
    "X, y = df.drop(['success'], axis=1), df.success\n",
    "X_mid, X_test, y_mid, y_test = train_test_split(X, y, test_size=0.2, random_state=42)\n",
    "X_train, X_val, y_train, y_val = train_test_split(X_mid, y_mid, test_size=0.2, random_state=42)"
   ]
  },
  {
   "cell_type": "code",
   "execution_count": 7,
   "id": "north-moldova",
   "metadata": {},
   "outputs": [],
   "source": [
    "scaler = StandardScaler()\n",
    "X_train_sc = scaler.fit_transform(X_train)\n",
    "X_val_sc = scaler.transform(X_val)"
   ]
  },
  {
   "cell_type": "markdown",
   "id": "square-horizon",
   "metadata": {},
   "source": [
    "## Random Forest + Gridsearch CV"
   ]
  },
  {
   "cell_type": "code",
   "execution_count": 8,
   "id": "unlimited-launch",
   "metadata": {},
   "outputs": [
    {
     "name": "stdout",
     "output_type": "stream",
     "text": [
      "              precision    recall  f1-score   support\n",
      "\n",
      "           0       0.69      0.62      0.65     12303\n",
      "           1       0.75      0.81      0.78     17963\n",
      "\n",
      "    accuracy                           0.73     30266\n",
      "   macro avg       0.72      0.71      0.72     30266\n",
      "weighted avg       0.73      0.73      0.73     30266\n",
      "\n"
     ]
    }
   ],
   "source": [
    "rf = RandomForestClassifier()\n",
    "rf.fit(X_train, y_train)\n",
    "rf_pred = rf.predict(X_val)\n",
    "\n",
    "rf_ac = rf.score(X_val, y_val)\n",
    "rf_precision = precision_score(y_val, rf_pred)\n",
    "rf_recall = recall_score(y_val, rf_pred)\n",
    "rf_f1 = f1_score(y_val, rf_pred)\n",
    "\n",
    "rf_y_score = rf.predict_proba(X_val)[:, 1]\n",
    "rf_fpr, rf_tpr, auc_thresholds = roc_curve(y_val, rf_y_score)\n",
    "roc_auc_rf = auc(rf_fpr, rf_tpr)\n",
    "\n",
    "print(classification_report(y_val, rf_pred))"
   ]
  },
  {
   "cell_type": "code",
   "execution_count": 9,
   "id": "naked-america",
   "metadata": {},
   "outputs": [
    {
     "name": "stdout",
     "output_type": "stream",
     "text": [
      "Random Forest validation metrics: \n",
      " Accuracy: 0.7322 \n",
      " Precision: 0.7550 \n",
      " Recall: 0.8124 \n",
      " F1: 0.7827 \n",
      " ROC: 0.7942\n"
     ]
    }
   ],
   "source": [
    "print('Random Forest validation metrics: \\n Accuracy: %.4f \\n Precision: %.4f \\n Recall: %.4f \\n F1: %.4f \\n ROC: %.4f' %\n",
    "        (rf_ac, \n",
    "         rf_precision, \n",
    "         rf_recall,\n",
    "         rf_f1,\n",
    "         roc_auc_rf)\n",
    "     )"
   ]
  },
  {
   "cell_type": "code",
   "execution_count": 10,
   "id": "further-coordinator",
   "metadata": {},
   "outputs": [
    {
     "data": {
      "text/plain": [
       "array([[ 7567,  4736],\n",
       "       [ 3369, 14594]])"
      ]
     },
     "execution_count": 10,
     "metadata": {},
     "output_type": "execute_result"
    }
   ],
   "source": [
    "confusion_matrix(y_val, rf_pred)"
   ]
  },
  {
   "cell_type": "code",
   "execution_count": 7,
   "id": "previous-pitch",
   "metadata": {},
   "outputs": [],
   "source": [
    "# random forest grid search to minimize FP - improve precision\n",
    "n_estimators = [10,100,200,300,400,500,600,1000]\n",
    "criterion = ['gini', 'entropy']\n",
    "param_grid = dict(n_estimators = n_estimators, criterion = criterion)\n",
    "rf_grid_search = RandomForestClassifier()"
   ]
  },
  {
   "cell_type": "code",
   "execution_count": 8,
   "id": "higher-reservoir",
   "metadata": {},
   "outputs": [
    {
     "name": "stdout",
     "output_type": "stream",
     "text": [
      "Fitting 5 folds for each of 16 candidates, totalling 80 fits\n"
     ]
    }
   ],
   "source": [
    "rf_grid = GridSearchCV(rf_grid_search, param_grid=param_grid, cv=5, scoring='f1', verbose=2, n_jobs=-1)\n",
    "rf_grid.fit(X_train, y_train)\n"
   ]
  },
  {
   "cell_type": "code",
   "execution_count": 11,
   "id": "published-arkansas",
   "metadata": {},
   "outputs": [
    {
     "name": "stdout",
     "output_type": "stream",
     "text": [
      "{'criterion': 'entropy', 'n_estimators': 600} RandomForestClassifier(criterion='entropy', n_estimators=600) [[ 7560  4743]\n",
      " [ 3260 14703]]               precision    recall  f1-score   support\n",
      "\n",
      "           0       0.70      0.61      0.65     12303\n",
      "           1       0.76      0.82      0.79     17963\n",
      "\n",
      "    accuracy                           0.74     30266\n",
      "   macro avg       0.73      0.72      0.72     30266\n",
      "weighted avg       0.73      0.74      0.73     30266\n",
      "\n"
     ]
    }
   ],
   "source": [
    "rf_grid_preds = rf_grid.predict(X_val)\n",
    "rf_best_params = rf_grid.best_params_\n",
    "rf_best_estimator = rf_grid.best_estimator_\n",
    "rf_best_cm = confusion_matrix(y_val,rf_grid_preds)\n",
    "rf_best_cr = classification_report(y_val,rf_grid_preds)\n",
    "print(rf_best_params, rf_best_estimator, rf_best_cm, rf_best_cr)"
   ]
  },
  {
   "cell_type": "code",
   "execution_count": 10,
   "id": "available-dominant",
   "metadata": {},
   "outputs": [
    {
     "name": "stdout",
     "output_type": "stream",
     "text": [
      "0.7958826507415839\n"
     ]
    }
   ],
   "source": [
    "rf_y_score = rf_grid.predict_proba(X_val)[:, 1]\n",
    "rf_grid_fpr, rf_grid_tpr, auc_thresholds = roc_curve(y_val, rf_y_score)\n",
    "roc_auc_rf_grid = auc(rf_grid_fpr, rf_grid_tpr)\n",
    "print(roc_auc_rf_grid)"
   ]
  },
  {
   "cell_type": "markdown",
   "id": "placed-england",
   "metadata": {},
   "source": [
    "## Logistic Regression + GridsearchCV"
   ]
  },
  {
   "cell_type": "code",
   "execution_count": 11,
   "id": "classical-meaning",
   "metadata": {},
   "outputs": [
    {
     "name": "stdout",
     "output_type": "stream",
     "text": [
      "              precision    recall  f1-score   support\n",
      "\n",
      "           0       0.69      0.53      0.60     12303\n",
      "           1       0.72      0.84      0.77     17963\n",
      "\n",
      "    accuracy                           0.71     30266\n",
      "   macro avg       0.70      0.68      0.69     30266\n",
      "weighted avg       0.71      0.71      0.70     30266\n",
      "\n"
     ]
    }
   ],
   "source": [
    "lr = LogisticRegression()\n",
    "lr.fit(X_train_sc, y_train)\n",
    "lr_pred = lr.predict(X_val_sc)\n",
    "lr_confusion = confusion_matrix(y_val, lr_pred)\n",
    "\n",
    "lr_ac = lr.score(X_val_sc, y_val)\n",
    "lr_precision = precision_score(y_val, lr_pred)\n",
    "lr_recall = recall_score(y_val, lr_pred)\n",
    "lr_f1 = f1_score(y_val, lr_pred)\n",
    "\n",
    "print(classification_report(y_val, lr_pred))"
   ]
  },
  {
   "cell_type": "code",
   "execution_count": 12,
   "id": "defined-pocket",
   "metadata": {},
   "outputs": [
    {
     "name": "stdout",
     "output_type": "stream",
     "text": [
      "Logistic Regression validation metrics: \n",
      " Accuracy: 0.7112 \n",
      " Precision: 0.7218 \n",
      " Recall: 0.8354 \n",
      " F1: 0.7745\n"
     ]
    }
   ],
   "source": [
    "print('Logistic Regression validation metrics: \\n Accuracy: %.4f \\n Precision: %.4f \\n Recall: %.4f \\n F1: %.4f' %\n",
    "        (lr_ac, \n",
    "         lr_precision, \n",
    "         lr_recall,\n",
    "         lr_f1)\n",
    "     )"
   ]
  },
  {
   "cell_type": "code",
   "execution_count": 8,
   "id": "medieval-minimum",
   "metadata": {},
   "outputs": [
    {
     "name": "stdout",
     "output_type": "stream",
     "text": [
      "Fitting 5 folds for each of 14 candidates, totalling 70 fits\n"
     ]
    },
    {
     "name": "stderr",
     "output_type": "stream",
     "text": [
      "/Users/crystalhuang/anaconda3/envs/metis/lib/python3.8/site-packages/sklearn/model_selection/_search.py:918: UserWarning: One or more of the test scores are non-finite: [       nan 0.76059635        nan 0.76323473        nan 0.76922946\n",
      "        nan 0.77385393        nan 0.77485187        nan 0.77507374\n",
      "        nan 0.7750438 ]\n",
      "  warnings.warn(\n"
     ]
    },
    {
     "name": "stdout",
     "output_type": "stream",
     "text": [
      "{'C': 100, 'penalty': 'l2'} LogisticRegression(C=100) [[ 6502  5801]\n",
      " [ 2920 15043]]               precision    recall  f1-score   support\n",
      "\n",
      "           0       0.69      0.53      0.60     12303\n",
      "           1       0.72      0.84      0.78     17963\n",
      "\n",
      "    accuracy                           0.71     30266\n",
      "   macro avg       0.71      0.68      0.69     30266\n",
      "weighted avg       0.71      0.71      0.70     30266\n",
      "\n"
     ]
    }
   ],
   "source": [
    "# logistic regression grid search to minimize FP - improve precision\n",
    "penalty = ['l1', 'l2']\n",
    "C = [0.001,0.01,0.1,1,10,100,1000]\n",
    "param_grid = dict(C=C, penalty=penalty)\n",
    "lr_grid_search = LogisticRegression()\n",
    "lr_grid = GridSearchCV(lr_grid_search, param_grid, cv=5, scoring='f1', verbose=2, n_jobs=-1, refit = True)\n",
    "lr_grid.fit(X_train_sc, y_train)\n",
    "lr_grid_preds = lr_grid.predict(X_val_sc)\n",
    "\n",
    "lr_grid_best_params = lr_grid.best_params_\n",
    "lr_grid_best_estimator = lr_grid.best_estimator_\n",
    "lr_grid_best_cm = confusion_matrix(y_val,lr_grid_preds)\n",
    "lr_grid_best_cr = classification_report(y_val,lr_grid_preds)\n",
    "print(lr_grid_best_params, lr_grid_best_estimator, lr_grid_best_cm, lr_grid_best_cr)"
   ]
  },
  {
   "cell_type": "code",
   "execution_count": 9,
   "id": "handled-translator",
   "metadata": {},
   "outputs": [
    {
     "name": "stdout",
     "output_type": "stream",
     "text": [
      "0.5029882041570825\n"
     ]
    }
   ],
   "source": [
    "lr_grid_y_score = lr_grid.predict_proba(X_val)[:, 1]\n",
    "lr_grid_fpr, lr_grid_tpr, auc_thresholds = roc_curve(y_val, lr_grid_y_score)\n",
    "roc_auc_lr_grid = auc(lr_grid_fpr, lr_grid_tpr)\n",
    "print(roc_auc_lr_grid )"
   ]
  },
  {
   "cell_type": "code",
   "execution_count": 13,
   "id": "million-pantyhose",
   "metadata": {},
   "outputs": [],
   "source": [
    "# test comparison\n",
    "\n",
    "# Logistic Regression\n",
    "scaler = StandardScaler()\n",
    "X_mid_sc = scaler.fit_transform(X_mid)\n",
    "X_test_sc = scaler.transform(X_test)\n",
    "\n",
    "lr = LogisticRegression(C=100)\n",
    "lr.fit(X_mid_sc, y_mid)\n",
    "lr_pred = lr.predict(X_test_sc)\n",
    "\n",
    "lr_ac = lr.score(X_test_sc, y_test)\n",
    "lr_precision = precision_score(y_test, lr_pred)\n",
    "lr_recall = recall_score(y_test, lr_pred)\n",
    "lr_f1 = f1_score(y_test, lr_pred)\n",
    "\n",
    "lr_y_score = lr.predict_proba(X_test)[:, 1]\n",
    "lr_fpr, lr_tpr, auc_thresholds = roc_curve(y_test, lr_y_score)\n",
    "roc_auc_lr = auc(lr_fpr, lr_tpr)\n",
    "\n",
    "# Random Forst\n",
    "\n",
    "rf = RandomForestClassifier(criterion='entropy', n_estimators=600)\n",
    "rf.fit(X_mid, y_mid)\n",
    "rf_pred = rf.predict(X_test)\n",
    "\n",
    "rf_ac = rf.score(X_test, y_test)\n",
    "rf_precision = precision_score(y_test, rf_pred)\n",
    "rf_recall = recall_score(y_test, rf_pred)\n",
    "rf_f1 = f1_score(y_test, rf_pred)\n",
    "\n",
    "rf_y_score = rf.predict_proba(X_test)[:, 1]\n",
    "rf_fpr, rf_tpr, auc_thresholds = roc_curve(y_test, rf_y_score)\n",
    "roc_auc_rf = auc(rf_fpr, rf_tpr)"
   ]
  },
  {
   "cell_type": "code",
   "execution_count": 15,
   "id": "still-intersection",
   "metadata": {},
   "outputs": [
    {
     "name": "stdout",
     "output_type": "stream",
     "text": [
      "Logistic Regression test score: \n",
      " Accuracy: 0.7101 \n",
      " Precision: 0.7175 \n",
      " Recall: 0.8423 \n",
      " F1: 0.7749 \n",
      " ROC: 0.5029\n",
      "Random Forest test score: \n",
      " Accuracy: 0.7276 \n",
      " Precision: 0.7499 \n",
      " Recall: 0.8105 \n",
      " F1: 0.7790 \n",
      " ROC: 0.7890\n"
     ]
    }
   ],
   "source": [
    "print('Logistic Regression test score: \\n Accuracy: %.4f \\n Precision: %.4f \\n Recall: %.4f \\n F1: %.4f \\n ROC: %.4f' %\n",
    "        (lr_ac, \n",
    "         lr_precision, \n",
    "         lr_recall,\n",
    "         lr_f1,\n",
    "         roc_auc_lr)\n",
    "     )\n",
    "\n",
    "print('Random Forest test score: \\n Accuracy: %.4f \\n Precision: %.4f \\n Recall: %.4f \\n F1: %.4f \\n ROC: %.4f' %\n",
    "        (rf_ac, \n",
    "         rf_precision, \n",
    "         rf_recall,\n",
    "         rf_f1,\n",
    "         roc_auc_rf)\n",
    "     )"
   ]
  },
  {
   "cell_type": "code",
   "execution_count": null,
   "id": "impaired-earthquake",
   "metadata": {},
   "outputs": [],
   "source": []
  }
 ],
 "metadata": {
  "kernelspec": {
   "display_name": "Python [conda env:metis] *",
   "language": "python",
   "name": "conda-env-metis-py"
  },
  "language_info": {
   "codemirror_mode": {
    "name": "ipython",
    "version": 3
   },
   "file_extension": ".py",
   "mimetype": "text/x-python",
   "name": "python",
   "nbconvert_exporter": "python",
   "pygments_lexer": "ipython3",
   "version": "3.8.8"
  }
 },
 "nbformat": 4,
 "nbformat_minor": 5
}
