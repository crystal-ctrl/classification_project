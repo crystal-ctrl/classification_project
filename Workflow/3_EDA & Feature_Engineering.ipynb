{
 "cells": [
  {
   "cell_type": "code",
   "execution_count": 1,
   "id": "middle-banks",
   "metadata": {},
   "outputs": [],
   "source": [
    "import pandas as pd\n",
    "import numpy as np\n",
    "from datetime import datetime, date, timedelta\n",
    "import matplotlib.pyplot as plt\n",
    "import seaborn as sns\n",
    "%matplotlib inline\n",
    "from ast import literal_eval\n",
    "\n",
    "plt.style.use('fivethirtyeight')"
   ]
  },
  {
   "cell_type": "code",
   "execution_count": 2,
   "id": "immune-friendship",
   "metadata": {},
   "outputs": [
    {
     "data": {
      "text/html": [
       "<div>\n",
       "<style scoped>\n",
       "    .dataframe tbody tr th:only-of-type {\n",
       "        vertical-align: middle;\n",
       "    }\n",
       "\n",
       "    .dataframe tbody tr th {\n",
       "        vertical-align: top;\n",
       "    }\n",
       "\n",
       "    .dataframe thead th {\n",
       "        text-align: right;\n",
       "    }\n",
       "</style>\n",
       "<table border=\"1\" class=\"dataframe\">\n",
       "  <thead>\n",
       "    <tr style=\"text-align: right;\">\n",
       "      <th></th>\n",
       "      <th>id</th>\n",
       "      <th>goal_usd</th>\n",
       "      <th>country</th>\n",
       "      <th>created_at</th>\n",
       "      <th>deadline</th>\n",
       "      <th>launched_at</th>\n",
       "      <th>state_changed_at</th>\n",
       "      <th>spotlight</th>\n",
       "      <th>staff_pick</th>\n",
       "      <th>main_category</th>\n",
       "      <th>sub_category</th>\n",
       "      <th>blurb</th>\n",
       "      <th>state</th>\n",
       "    </tr>\n",
       "  </thead>\n",
       "  <tbody>\n",
       "    <tr>\n",
       "      <th>0</th>\n",
       "      <td>1560919980</td>\n",
       "      <td>5227.00000</td>\n",
       "      <td>US</td>\n",
       "      <td>2017-02-23 00:28:16</td>\n",
       "      <td>2017-04-10 02:00:36</td>\n",
       "      <td>2017-03-11 03:00:36</td>\n",
       "      <td>2017-04-10 02:00:37</td>\n",
       "      <td>True</td>\n",
       "      <td>False</td>\n",
       "      <td>Food</td>\n",
       "      <td>Community Gardens</td>\n",
       "      <td>The Backyard will be a community garden in Lak...</td>\n",
       "      <td>successful</td>\n",
       "    </tr>\n",
       "    <tr>\n",
       "      <th>1</th>\n",
       "      <td>1441173176</td>\n",
       "      <td>47878.24160</td>\n",
       "      <td>GB</td>\n",
       "      <td>2016-07-23 09:59:08</td>\n",
       "      <td>2016-08-22 12:49:55</td>\n",
       "      <td>2016-07-23 12:49:55</td>\n",
       "      <td>2016-08-22 12:49:55</td>\n",
       "      <td>False</td>\n",
       "      <td>False</td>\n",
       "      <td>Film &amp; Video</td>\n",
       "      <td>Drama</td>\n",
       "      <td>Modern London is home to a poverty driven ambi...</td>\n",
       "      <td>failed</td>\n",
       "    </tr>\n",
       "    <tr>\n",
       "      <th>2</th>\n",
       "      <td>1907302929</td>\n",
       "      <td>1000.00000</td>\n",
       "      <td>US</td>\n",
       "      <td>2018-02-21 18:13:24</td>\n",
       "      <td>2018-07-30 13:14:04</td>\n",
       "      <td>2018-06-30 13:14:04</td>\n",
       "      <td>2018-07-30 13:14:06</td>\n",
       "      <td>True</td>\n",
       "      <td>False</td>\n",
       "      <td>Games</td>\n",
       "      <td>Playing Cards</td>\n",
       "      <td>Announcing a twist of our original party game ...</td>\n",
       "      <td>successful</td>\n",
       "    </tr>\n",
       "    <tr>\n",
       "      <th>3</th>\n",
       "      <td>520777940</td>\n",
       "      <td>1031.74888</td>\n",
       "      <td>HK</td>\n",
       "      <td>2019-08-18 04:39:05</td>\n",
       "      <td>2019-10-04 14:45:30</td>\n",
       "      <td>2019-09-04 14:45:30</td>\n",
       "      <td>2019-10-04 14:45:30</td>\n",
       "      <td>True</td>\n",
       "      <td>False</td>\n",
       "      <td>Games</td>\n",
       "      <td>Playing Cards</td>\n",
       "      <td>Overstock card renovation plan</td>\n",
       "      <td>successful</td>\n",
       "    </tr>\n",
       "    <tr>\n",
       "      <th>4</th>\n",
       "      <td>2087823414</td>\n",
       "      <td>550.00000</td>\n",
       "      <td>US</td>\n",
       "      <td>2018-01-06 20:19:17</td>\n",
       "      <td>2018-02-10 02:29:02</td>\n",
       "      <td>2018-01-11 02:29:02</td>\n",
       "      <td>2018-02-10 02:29:04</td>\n",
       "      <td>True</td>\n",
       "      <td>False</td>\n",
       "      <td>Art</td>\n",
       "      <td>Textiles</td>\n",
       "      <td>I want to learn how to dye fabric! Follow me a...</td>\n",
       "      <td>successful</td>\n",
       "    </tr>\n",
       "  </tbody>\n",
       "</table>\n",
       "</div>"
      ],
      "text/plain": [
       "           id     goal_usd country           created_at             deadline  \\\n",
       "0  1560919980   5227.00000      US  2017-02-23 00:28:16  2017-04-10 02:00:36   \n",
       "1  1441173176  47878.24160      GB  2016-07-23 09:59:08  2016-08-22 12:49:55   \n",
       "2  1907302929   1000.00000      US  2018-02-21 18:13:24  2018-07-30 13:14:04   \n",
       "3   520777940   1031.74888      HK  2019-08-18 04:39:05  2019-10-04 14:45:30   \n",
       "4  2087823414    550.00000      US  2018-01-06 20:19:17  2018-02-10 02:29:02   \n",
       "\n",
       "           launched_at     state_changed_at  spotlight  staff_pick  \\\n",
       "0  2017-03-11 03:00:36  2017-04-10 02:00:37       True       False   \n",
       "1  2016-07-23 12:49:55  2016-08-22 12:49:55      False       False   \n",
       "2  2018-06-30 13:14:04  2018-07-30 13:14:06       True       False   \n",
       "3  2019-09-04 14:45:30  2019-10-04 14:45:30       True       False   \n",
       "4  2018-01-11 02:29:02  2018-02-10 02:29:04       True       False   \n",
       "\n",
       "  main_category       sub_category  \\\n",
       "0          Food  Community Gardens   \n",
       "1  Film & Video              Drama   \n",
       "2         Games      Playing Cards   \n",
       "3         Games      Playing Cards   \n",
       "4           Art           Textiles   \n",
       "\n",
       "                                               blurb       state  \n",
       "0  The Backyard will be a community garden in Lak...  successful  \n",
       "1  Modern London is home to a poverty driven ambi...      failed  \n",
       "2  Announcing a twist of our original party game ...  successful  \n",
       "3                     Overstock card renovation plan  successful  \n",
       "4  I want to learn how to dye fabric! Follow me a...  successful  "
      ]
     },
     "execution_count": 2,
     "metadata": {},
     "output_type": "execute_result"
    }
   ],
   "source": [
    "df = pd.read_csv(\"../data/kickstarter.csv\")\n",
    "df.head()"
   ]
  },
  {
   "cell_type": "code",
   "execution_count": 3,
   "id": "resident-covering",
   "metadata": {},
   "outputs": [
    {
     "name": "stdout",
     "output_type": "stream",
     "text": [
      "<class 'pandas.core.frame.DataFrame'>\n",
      "RangeIndex: 189162 entries, 0 to 189161\n",
      "Data columns (total 13 columns):\n",
      " #   Column            Non-Null Count   Dtype  \n",
      "---  ------            --------------   -----  \n",
      " 0   id                189162 non-null  int64  \n",
      " 1   goal_usd          189162 non-null  float64\n",
      " 2   country           189162 non-null  object \n",
      " 3   created_at        189162 non-null  object \n",
      " 4   deadline          189162 non-null  object \n",
      " 5   launched_at       189162 non-null  object \n",
      " 6   state_changed_at  189162 non-null  object \n",
      " 7   spotlight         189162 non-null  bool   \n",
      " 8   staff_pick        189162 non-null  bool   \n",
      " 9   main_category     189162 non-null  object \n",
      " 10  sub_category      189162 non-null  object \n",
      " 11  blurb             189160 non-null  object \n",
      " 12  state             189162 non-null  object \n",
      "dtypes: bool(2), float64(1), int64(1), object(9)\n",
      "memory usage: 16.2+ MB\n"
     ]
    }
   ],
   "source": [
    "df.info()"
   ]
  },
  {
   "cell_type": "markdown",
   "id": "prepared-landscape",
   "metadata": {},
   "source": [
    "# Target"
   ]
  },
  {
   "cell_type": "code",
   "execution_count": 4,
   "id": "after-mounting",
   "metadata": {},
   "outputs": [
    {
     "name": "stdout",
     "output_type": "stream",
     "text": [
      "successful    112056\n",
      "failed         77106\n",
      "Name: state, dtype: int64\n",
      "successful    0.592381\n",
      "failed        0.407619\n",
      "Name: state, dtype: float64\n"
     ]
    },
    {
     "name": "stderr",
     "output_type": "stream",
     "text": [
      "/Users/crystalhuang/anaconda3/envs/metis/lib/python3.8/site-packages/seaborn/_decorators.py:36: FutureWarning: Pass the following variables as keyword args: x, y. From version 0.12, the only valid positional argument will be `data`, and passing other arguments without an explicit keyword will result in an error or misinterpretation.\n",
      "  warnings.warn(\n"
     ]
    },
    {
     "data": {
      "image/png": "[encoded data removed]",
      "text/plain": [
       "<Figure size 720x360 with 1 Axes>"
      ]
     },
     "metadata": {},
     "output_type": "display_data"
    }
   ],
   "source": [
    "print(df.state.value_counts())\n",
    "target = df.state.value_counts(normalize=True) \n",
    "print(target)\n",
    "plt.figure(figsize=(10,5))\n",
    "sns.barplot(target.index, target.values)\n",
    "plt.title('Kickstarter Success Ratio')\n",
    "plt.ylabel('Percentage of Campaign', fontsize=12);"
   ]
  },
  {
   "cell_type": "code",
   "execution_count": 5,
   "id": "regulated-missile",
   "metadata": {},
   "outputs": [
    {
     "data": {
      "text/plain": [
       "1    112056\n",
       "0     77106\n",
       "Name: success, dtype: int64"
      ]
     },
     "execution_count": 5,
     "metadata": {},
     "output_type": "execute_result"
    }
   ],
   "source": [
    "df['state'] = df.state.astype(str)\n",
    "df['success'] = np.where(df.state == \"successful\", 1, 0)\n",
    "df.success.value_counts()"
   ]
  },
  {
   "cell_type": "markdown",
   "id": "coated-monitoring",
   "metadata": {},
   "source": [
    "# Features\n",
    "1. goal usd\n",
    "2. country (dummies) - FE\n",
    "3. campaign duration - FE\n",
    "4. spotlight (dummies) - FE\n",
    "5. staff pick (dummies) - FE\n",
    "6. main category (dummies) - FE\n",
    "7. (sub category (dummies) -FE)\n",
    "8. blurb length -FE"
   ]
  },
  {
   "cell_type": "markdown",
   "id": "individual-polymer",
   "metadata": {},
   "source": [
    "## 1. Goal in USD"
   ]
  },
  {
   "cell_type": "code",
   "execution_count": 6,
   "id": "eastern-visitor",
   "metadata": {},
   "outputs": [
    {
     "data": {
      "image/png": "[encoded data removed]",
      "text/plain": [
       "<Figure size 432x288 with 1 Axes>"
      ]
     },
     "metadata": {},
     "output_type": "display_data"
    }
   ],
   "source": [
    "# goal\n",
    "sns.boxplot(x=\"state\", y=\"goal_usd\", data=df);"
   ]
  },
  {
   "cell_type": "markdown",
   "id": "genetic-astrology",
   "metadata": {},
   "source": [
    "## 2. Country"
   ]
  },
  {
   "cell_type": "code",
   "execution_count": 7,
   "id": "associate-comfort",
   "metadata": {},
   "outputs": [
    {
     "name": "stderr",
     "output_type": "stream",
     "text": [
      "/Users/crystalhuang/anaconda3/envs/metis/lib/python3.8/site-packages/seaborn/_decorators.py:36: FutureWarning: Pass the following variables as keyword args: x, y. From version 0.12, the only valid positional argument will be `data`, and passing other arguments without an explicit keyword will result in an error or misinterpretation.\n",
      "  warnings.warn(\n"
     ]
    },
    {
     "data": {
      "image/png": "[encoded data removed]",
      "text/plain": [
       "<Figure size 1152x360 with 1 Axes>"
      ]
     },
     "metadata": {},
     "output_type": "display_data"
    }
   ],
   "source": [
    "country_list = df.country.value_counts()\n",
    "plt.figure(figsize=(16,5))\n",
    "sns.barplot(country_list.index, country_list.values, alpha=0.8)\n",
    "plt.title('Kickstarter Countries')\n",
    "plt.ylabel('Number of Campaigns', fontsize=12);"
   ]
  },
  {
   "cell_type": "code",
   "execution_count": 8,
   "id": "fixed-protest",
   "metadata": {},
   "outputs": [
    {
     "name": "stdout",
     "output_type": "stream",
     "text": [
      "country\n",
      "AU        2334\n",
      "CA        5084\n",
      "DE        1704\n",
      "ES        1049\n",
      "FR        1637\n",
      "GB       13622\n",
      "HK        1021\n",
      "IT         877\n",
      "MX        1174\n",
      "NL         770\n",
      "OTHER     3208\n",
      "SE         752\n",
      "US       78824\n",
      "dtype: int64\n"
     ]
    },
    {
     "data": {
      "image/png": "[encoded data removed]",
      "text/plain": [
       "<Figure size 1152x360 with 1 Axes>"
      ]
     },
     "metadata": {},
     "output_type": "display_data"
    }
   ],
   "source": [
    "country_success = df[df.success == 1].groupby(['country']).size()\n",
    "print(country_success)\n",
    "\n",
    "plt.figure(figsize=(16,5))\n",
    "sns.barplot(x=country_success.index, y=country_success.values)\n",
    "plt.xticks(rotation=45);"
   ]
  },
  {
   "cell_type": "code",
   "execution_count": 9,
   "id": "exclusive-diameter",
   "metadata": {},
   "outputs": [
    {
     "name": "stdout",
     "output_type": "stream",
     "text": [
      "country\n",
      "AU        2065\n",
      "CA        3745\n",
      "DE        1783\n",
      "ES        1152\n",
      "FR        1189\n",
      "GB        7743\n",
      "HK         301\n",
      "IT        1590\n",
      "MX        1596\n",
      "NL         878\n",
      "OTHER     2733\n",
      "SE         628\n",
      "US       51703\n",
      "dtype: int64\n"
     ]
    },
    {
     "data": {
      "image/png": "[encoded data removed]",
      "text/plain": [
       "<Figure size 1152x360 with 1 Axes>"
      ]
     },
     "metadata": {},
     "output_type": "display_data"
    }
   ],
   "source": [
    "country_fail = df[df.success == 0].groupby(['country']).size()\n",
    "print(country_fail)\n",
    "\n",
    "plt.figure(figsize=(16,5))\n",
    "sns.barplot(x=country_fail.index, y=country_fail.values)\n",
    "plt.xticks(rotation=45);"
   ]
  },
  {
   "cell_type": "code",
   "execution_count": 10,
   "id": "brilliant-administrator",
   "metadata": {},
   "outputs": [],
   "source": [
    "country_dict = {'AU': 'OTHER','CA': 'OTHER', 'DE':'OTHER', 'ES': 'OTHER', 'FR': 'OTHER',\n",
    " 'GB': 'OTHER', 'HK': 'OTHER', 'IT': 'OTHER', 'MX': 'OTHER', 'NL': 'OTHER', 'SE': 'OTHER'}\n",
    "df = df.replace({\"country\": country_dict})"
   ]
  },
  {
   "cell_type": "code",
   "execution_count": 11,
   "id": "exciting-jacksonville",
   "metadata": {},
   "outputs": [
    {
     "name": "stdout",
     "output_type": "stream",
     "text": [
      "country\n",
      "OTHER    33232\n",
      "US       78824\n",
      "dtype: int64\n"
     ]
    },
    {
     "data": {
      "image/png": "[encoded data removed]",
      "text/plain": [
       "<Figure size 1152x360 with 1 Axes>"
      ]
     },
     "metadata": {},
     "output_type": "display_data"
    }
   ],
   "source": [
    "country_success = df[df.success == 1].groupby(['country']).size()\n",
    "print(country_success)\n",
    "\n",
    "plt.figure(figsize=(16,5))\n",
    "sns.barplot(x=country_success.index, y=country_success.values)\n",
    "plt.xticks(rotation=45);"
   ]
  },
  {
   "cell_type": "code",
   "execution_count": 12,
   "id": "accepted-lotus",
   "metadata": {},
   "outputs": [
    {
     "data": {
      "text/plain": [
       "Index(['id', 'goal_usd', 'created_at', 'deadline', 'launched_at',\n",
       "       'state_changed_at', 'spotlight', 'staff_pick', 'main_category',\n",
       "       'sub_category', 'blurb', 'state', 'success', 'country_US'],\n",
       "      dtype='object')"
      ]
     },
     "execution_count": 12,
     "metadata": {},
     "output_type": "execute_result"
    }
   ],
   "source": [
    "# Make dummies\n",
    "df = pd.get_dummies(columns=['country'], drop_first=True, data=df)\n",
    "df.columns"
   ]
  },
  {
   "cell_type": "markdown",
   "id": "light-marketplace",
   "metadata": {},
   "source": [
    "## 3. Campaign Duration, Prep Duration"
   ]
  },
  {
   "cell_type": "code",
   "execution_count": 13,
   "id": "offshore-material",
   "metadata": {},
   "outputs": [],
   "source": [
    "df['created_at'] = pd.to_datetime(df.created_at)\n",
    "df['launched_at'] = pd.to_datetime(df.launched_at)\n",
    "df['deadline'] = pd.to_datetime(df.deadline)\n",
    "\n",
    "prep_date = df.created_at.values\n",
    "start_date = df.launched_at.values\n",
    "end_date = df.deadline.values\n",
    "\n",
    "# campaign duration = from launched time to deadline\n",
    "df['cam_duration'] = pd.to_timedelta(end_date - start_date).days\n",
    "df['prep_duration'] = pd.to_timedelta(start_date - prep_date).days"
   ]
  },
  {
   "cell_type": "code",
   "execution_count": 14,
   "id": "parallel-ebony",
   "metadata": {},
   "outputs": [
    {
     "data": {
      "text/html": [
       "<div>\n",
       "<style scoped>\n",
       "    .dataframe tbody tr th:only-of-type {\n",
       "        vertical-align: middle;\n",
       "    }\n",
       "\n",
       "    .dataframe tbody tr th {\n",
       "        vertical-align: top;\n",
       "    }\n",
       "\n",
       "    .dataframe thead th {\n",
       "        text-align: right;\n",
       "    }\n",
       "</style>\n",
       "<table border=\"1\" class=\"dataframe\">\n",
       "  <thead>\n",
       "    <tr style=\"text-align: right;\">\n",
       "      <th></th>\n",
       "      <th>created_at</th>\n",
       "      <th>launched_at</th>\n",
       "      <th>deadline</th>\n",
       "      <th>state_changed_at</th>\n",
       "      <th>cam_duration</th>\n",
       "      <th>prep_duration</th>\n",
       "    </tr>\n",
       "  </thead>\n",
       "  <tbody>\n",
       "    <tr>\n",
       "      <th>0</th>\n",
       "      <td>2017-02-23 00:28:16</td>\n",
       "      <td>2017-03-11 03:00:36</td>\n",
       "      <td>2017-04-10 02:00:36</td>\n",
       "      <td>2017-04-10 02:00:37</td>\n",
       "      <td>29</td>\n",
       "      <td>16</td>\n",
       "    </tr>\n",
       "    <tr>\n",
       "      <th>1</th>\n",
       "      <td>2016-07-23 09:59:08</td>\n",
       "      <td>2016-07-23 12:49:55</td>\n",
       "      <td>2016-08-22 12:49:55</td>\n",
       "      <td>2016-08-22 12:49:55</td>\n",
       "      <td>30</td>\n",
       "      <td>0</td>\n",
       "    </tr>\n",
       "    <tr>\n",
       "      <th>2</th>\n",
       "      <td>2018-02-21 18:13:24</td>\n",
       "      <td>2018-06-30 13:14:04</td>\n",
       "      <td>2018-07-30 13:14:04</td>\n",
       "      <td>2018-07-30 13:14:06</td>\n",
       "      <td>30</td>\n",
       "      <td>128</td>\n",
       "    </tr>\n",
       "    <tr>\n",
       "      <th>3</th>\n",
       "      <td>2019-08-18 04:39:05</td>\n",
       "      <td>2019-09-04 14:45:30</td>\n",
       "      <td>2019-10-04 14:45:30</td>\n",
       "      <td>2019-10-04 14:45:30</td>\n",
       "      <td>30</td>\n",
       "      <td>17</td>\n",
       "    </tr>\n",
       "    <tr>\n",
       "      <th>4</th>\n",
       "      <td>2018-01-06 20:19:17</td>\n",
       "      <td>2018-01-11 02:29:02</td>\n",
       "      <td>2018-02-10 02:29:02</td>\n",
       "      <td>2018-02-10 02:29:04</td>\n",
       "      <td>30</td>\n",
       "      <td>4</td>\n",
       "    </tr>\n",
       "  </tbody>\n",
       "</table>\n",
       "</div>"
      ],
      "text/plain": [
       "           created_at         launched_at            deadline  \\\n",
       "0 2017-02-23 00:28:16 2017-03-11 03:00:36 2017-04-10 02:00:36   \n",
       "1 2016-07-23 09:59:08 2016-07-23 12:49:55 2016-08-22 12:49:55   \n",
       "2 2018-02-21 18:13:24 2018-06-30 13:14:04 2018-07-30 13:14:04   \n",
       "3 2019-08-18 04:39:05 2019-09-04 14:45:30 2019-10-04 14:45:30   \n",
       "4 2018-01-06 20:19:17 2018-01-11 02:29:02 2018-02-10 02:29:02   \n",
       "\n",
       "      state_changed_at  cam_duration  prep_duration  \n",
       "0  2017-04-10 02:00:37            29             16  \n",
       "1  2016-08-22 12:49:55            30              0  \n",
       "2  2018-07-30 13:14:06            30            128  \n",
       "3  2019-10-04 14:45:30            30             17  \n",
       "4  2018-02-10 02:29:04            30              4  "
      ]
     },
     "execution_count": 14,
     "metadata": {},
     "output_type": "execute_result"
    }
   ],
   "source": [
    "#sanity check\n",
    "df[['created_at', 'launched_at', 'deadline', 'state_changed_at', 'cam_duration', 'prep_duration']].head()"
   ]
  },
  {
   "cell_type": "markdown",
   "id": "improved-webmaster",
   "metadata": {},
   "source": [
    "## 4. Spotlight &  5. Staff pick"
   ]
  },
  {
   "cell_type": "code",
   "execution_count": 15,
   "id": "measured-conservation",
   "metadata": {},
   "outputs": [
    {
     "data": {
      "text/html": [
       "<div>\n",
       "<style scoped>\n",
       "    .dataframe tbody tr th:only-of-type {\n",
       "        vertical-align: middle;\n",
       "    }\n",
       "\n",
       "    .dataframe tbody tr th {\n",
       "        vertical-align: top;\n",
       "    }\n",
       "\n",
       "    .dataframe thead th {\n",
       "        text-align: right;\n",
       "    }\n",
       "</style>\n",
       "<table border=\"1\" class=\"dataframe\">\n",
       "  <thead>\n",
       "    <tr style=\"text-align: right;\">\n",
       "      <th></th>\n",
       "      <th>id</th>\n",
       "      <th>goal_usd</th>\n",
       "      <th>created_at</th>\n",
       "      <th>deadline</th>\n",
       "      <th>launched_at</th>\n",
       "      <th>state_changed_at</th>\n",
       "      <th>main_category</th>\n",
       "      <th>sub_category</th>\n",
       "      <th>blurb</th>\n",
       "      <th>state</th>\n",
       "      <th>success</th>\n",
       "      <th>country_US</th>\n",
       "      <th>cam_duration</th>\n",
       "      <th>prep_duration</th>\n",
       "      <th>spotlight_True</th>\n",
       "      <th>staff_pick_True</th>\n",
       "    </tr>\n",
       "  </thead>\n",
       "  <tbody>\n",
       "    <tr>\n",
       "      <th>0</th>\n",
       "      <td>1560919980</td>\n",
       "      <td>5227.00000</td>\n",
       "      <td>2017-02-23 00:28:16</td>\n",
       "      <td>2017-04-10 02:00:36</td>\n",
       "      <td>2017-03-11 03:00:36</td>\n",
       "      <td>2017-04-10 02:00:37</td>\n",
       "      <td>Food</td>\n",
       "      <td>Community Gardens</td>\n",
       "      <td>The Backyard will be a community garden in Lak...</td>\n",
       "      <td>successful</td>\n",
       "      <td>1</td>\n",
       "      <td>1</td>\n",
       "      <td>29</td>\n",
       "      <td>16</td>\n",
       "      <td>1</td>\n",
       "      <td>0</td>\n",
       "    </tr>\n",
       "    <tr>\n",
       "      <th>1</th>\n",
       "      <td>1441173176</td>\n",
       "      <td>47878.24160</td>\n",
       "      <td>2016-07-23 09:59:08</td>\n",
       "      <td>2016-08-22 12:49:55</td>\n",
       "      <td>2016-07-23 12:49:55</td>\n",
       "      <td>2016-08-22 12:49:55</td>\n",
       "      <td>Film &amp; Video</td>\n",
       "      <td>Drama</td>\n",
       "      <td>Modern London is home to a poverty driven ambi...</td>\n",
       "      <td>failed</td>\n",
       "      <td>0</td>\n",
       "      <td>0</td>\n",
       "      <td>30</td>\n",
       "      <td>0</td>\n",
       "      <td>0</td>\n",
       "      <td>0</td>\n",
       "    </tr>\n",
       "    <tr>\n",
       "      <th>2</th>\n",
       "      <td>1907302929</td>\n",
       "      <td>1000.00000</td>\n",
       "      <td>2018-02-21 18:13:24</td>\n",
       "      <td>2018-07-30 13:14:04</td>\n",
       "      <td>2018-06-30 13:14:04</td>\n",
       "      <td>2018-07-30 13:14:06</td>\n",
       "      <td>Games</td>\n",
       "      <td>Playing Cards</td>\n",
       "      <td>Announcing a twist of our original party game ...</td>\n",
       "      <td>successful</td>\n",
       "      <td>1</td>\n",
       "      <td>1</td>\n",
       "      <td>30</td>\n",
       "      <td>128</td>\n",
       "      <td>1</td>\n",
       "      <td>0</td>\n",
       "    </tr>\n",
       "    <tr>\n",
       "      <th>3</th>\n",
       "      <td>520777940</td>\n",
       "      <td>1031.74888</td>\n",
       "      <td>2019-08-18 04:39:05</td>\n",
       "      <td>2019-10-04 14:45:30</td>\n",
       "      <td>2019-09-04 14:45:30</td>\n",
       "      <td>2019-10-04 14:45:30</td>\n",
       "      <td>Games</td>\n",
       "      <td>Playing Cards</td>\n",
       "      <td>Overstock card renovation plan</td>\n",
       "      <td>successful</td>\n",
       "      <td>1</td>\n",
       "      <td>0</td>\n",
       "      <td>30</td>\n",
       "      <td>17</td>\n",
       "      <td>1</td>\n",
       "      <td>0</td>\n",
       "    </tr>\n",
       "    <tr>\n",
       "      <th>4</th>\n",
       "      <td>2087823414</td>\n",
       "      <td>550.00000</td>\n",
       "      <td>2018-01-06 20:19:17</td>\n",
       "      <td>2018-02-10 02:29:02</td>\n",
       "      <td>2018-01-11 02:29:02</td>\n",
       "      <td>2018-02-10 02:29:04</td>\n",
       "      <td>Art</td>\n",
       "      <td>Textiles</td>\n",
       "      <td>I want to learn how to dye fabric! Follow me a...</td>\n",
       "      <td>successful</td>\n",
       "      <td>1</td>\n",
       "      <td>1</td>\n",
       "      <td>30</td>\n",
       "      <td>4</td>\n",
       "      <td>1</td>\n",
       "      <td>0</td>\n",
       "    </tr>\n",
       "  </tbody>\n",
       "</table>\n",
       "</div>"
      ],
      "text/plain": [
       "           id     goal_usd          created_at            deadline  \\\n",
       "0  1560919980   5227.00000 2017-02-23 00:28:16 2017-04-10 02:00:36   \n",
       "1  1441173176  47878.24160 2016-07-23 09:59:08 2016-08-22 12:49:55   \n",
       "2  1907302929   1000.00000 2018-02-21 18:13:24 2018-07-30 13:14:04   \n",
       "3   520777940   1031.74888 2019-08-18 04:39:05 2019-10-04 14:45:30   \n",
       "4  2087823414    550.00000 2018-01-06 20:19:17 2018-02-10 02:29:02   \n",
       "\n",
       "          launched_at     state_changed_at main_category       sub_category  \\\n",
       "0 2017-03-11 03:00:36  2017-04-10 02:00:37          Food  Community Gardens   \n",
       "1 2016-07-23 12:49:55  2016-08-22 12:49:55  Film & Video              Drama   \n",
       "2 2018-06-30 13:14:04  2018-07-30 13:14:06         Games      Playing Cards   \n",
       "3 2019-09-04 14:45:30  2019-10-04 14:45:30         Games      Playing Cards   \n",
       "4 2018-01-11 02:29:02  2018-02-10 02:29:04           Art           Textiles   \n",
       "\n",
       "                                               blurb       state  success  \\\n",
       "0  The Backyard will be a community garden in Lak...  successful        1   \n",
       "1  Modern London is home to a poverty driven ambi...      failed        0   \n",
       "2  Announcing a twist of our original party game ...  successful        1   \n",
       "3                     Overstock card renovation plan  successful        1   \n",
       "4  I want to learn how to dye fabric! Follow me a...  successful        1   \n",
       "\n",
       "   country_US  cam_duration  prep_duration  spotlight_True  staff_pick_True  \n",
       "0           1            29             16               1                0  \n",
       "1           0            30              0               0                0  \n",
       "2           1            30            128               1                0  \n",
       "3           0            30             17               1                0  \n",
       "4           1            30              4               1                0  "
      ]
     },
     "execution_count": 15,
     "metadata": {},
     "output_type": "execute_result"
    }
   ],
   "source": [
    "# spotlight and staff_pick\n",
    "df = pd.get_dummies(columns = ['spotlight','staff_pick'], drop_first=True, data=df)\n",
    "df.head(5)"
   ]
  },
  {
   "cell_type": "markdown",
   "id": "representative-remains",
   "metadata": {},
   "source": [
    "## 6. Main Category"
   ]
  },
  {
   "cell_type": "code",
   "execution_count": 16,
   "id": "acquired-michael",
   "metadata": {},
   "outputs": [
    {
     "name": "stdout",
     "output_type": "stream",
     "text": [
      "main_category\n",
      "Art             12511\n",
      "Comics           6667\n",
      "Crafts           2608\n",
      "Dance            2403\n",
      "Design           4552\n",
      "Fashion          6580\n",
      "Film & Video    15501\n",
      "Food             4788\n",
      "Games            9301\n",
      "Journalism       1360\n",
      "Music           17903\n",
      "Photography      2654\n",
      "Publishing      13611\n",
      "Technology       8203\n",
      "Theater          3414\n",
      "dtype: int64\n"
     ]
    },
    {
     "data": {
      "image/png": "[encoded data removed]",
      "text/plain": [
       "<Figure size 1152x360 with 1 Axes>"
      ]
     },
     "metadata": {},
     "output_type": "display_data"
    }
   ],
   "source": [
    "# main category + success\n",
    "category_success = df[df.success == 1].groupby(['main_category']).size()\n",
    "print(category_success)\n",
    "plt.figure(figsize=(16,5))\n",
    "sns.barplot(x=category_success.index, y=category_success.values)\n",
    "plt.xticks(rotation=45);"
   ]
  },
  {
   "cell_type": "code",
   "execution_count": 17,
   "id": "activated-archive",
   "metadata": {},
   "outputs": [
    {
     "data": {
      "text/plain": [
       "Index(['id', 'goal_usd', 'created_at', 'deadline', 'launched_at',\n",
       "       'state_changed_at', 'sub_category', 'blurb', 'state', 'success',\n",
       "       'country_US', 'cam_duration', 'prep_duration', 'spotlight_True',\n",
       "       'staff_pick_True', 'main_category_Comics', 'main_category_Crafts',\n",
       "       'main_category_Dance', 'main_category_Design', 'main_category_Fashion',\n",
       "       'main_category_Film & Video', 'main_category_Food',\n",
       "       'main_category_Games', 'main_category_Journalism',\n",
       "       'main_category_Music', 'main_category_Photography',\n",
       "       'main_category_Publishing', 'main_category_Technology',\n",
       "       'main_category_Theater'],\n",
       "      dtype='object')"
      ]
     },
     "execution_count": 17,
     "metadata": {},
     "output_type": "execute_result"
    }
   ],
   "source": [
    "# Make category dummies\n",
    "df = pd.get_dummies(columns=['main_category'], drop_first=True, data=df)\n",
    "df.columns"
   ]
  },
  {
   "cell_type": "markdown",
   "id": "yellow-terminal",
   "metadata": {},
   "source": [
    "## 7. Sub category"
   ]
  },
  {
   "cell_type": "code",
   "execution_count": 18,
   "id": "revolutionary-helicopter",
   "metadata": {},
   "outputs": [
    {
     "data": {
      "text/plain": [
       "Web               3805\n",
       "Tabletop Games    3275\n",
       "Comedy            2925\n",
       "Comic Books       2602\n",
       "Product Design    2600\n",
       "                  ... \n",
       "Quilts              87\n",
       "Residencies         85\n",
       "Letterpress         84\n",
       "Chiptune            50\n",
       "Taxidermy           10\n",
       "Name: sub_category, Length: 161, dtype: int64"
      ]
     },
     "execution_count": 18,
     "metadata": {},
     "output_type": "execute_result"
    }
   ],
   "source": [
    "df.sub_category.value_counts()"
   ]
  },
  {
   "cell_type": "markdown",
   "id": "neither-alaska",
   "metadata": {},
   "source": [
    "Too many sub_categories for dummies. Might make the model overfit."
   ]
  },
  {
   "cell_type": "markdown",
   "id": "stable-banana",
   "metadata": {},
   "source": [
    "## 8. Length of blurb (description of the campaign)"
   ]
  },
  {
   "cell_type": "code",
   "execution_count": 19,
   "id": "typical-guide",
   "metadata": {},
   "outputs": [
    {
     "data": {
      "text/plain": [
       "0    The Backyard will be a community garden in Lak...\n",
       "1    Modern London is home to a poverty driven ambi...\n",
       "2    Announcing a twist of our original party game ...\n",
       "3                       Overstock card renovation plan\n",
       "4    I want to learn how to dye fabric! Follow me a...\n",
       "Name: blurb, dtype: object"
      ]
     },
     "execution_count": 19,
     "metadata": {},
     "output_type": "execute_result"
    }
   ],
   "source": [
    "df.blurb.head(5)"
   ]
  },
  {
   "cell_type": "code",
   "execution_count": 20,
   "id": "black-portsmouth",
   "metadata": {},
   "outputs": [],
   "source": [
    "blurb = df.blurb.astype('str')\n",
    "desc_length = []\n",
    "\n",
    "for b in blurb:\n",
    "    desc_length_item = len(b.split(' '))\n",
    "    desc_length.append(desc_length_item)\n",
    "\n",
    "df['desc_length'] = desc_length"
   ]
  },
  {
   "cell_type": "code",
   "execution_count": 21,
   "id": "bronze-psychology",
   "metadata": {},
   "outputs": [
    {
     "data": {
      "text/html": [
       "<div>\n",
       "<style scoped>\n",
       "    .dataframe tbody tr th:only-of-type {\n",
       "        vertical-align: middle;\n",
       "    }\n",
       "\n",
       "    .dataframe tbody tr th {\n",
       "        vertical-align: top;\n",
       "    }\n",
       "\n",
       "    .dataframe thead th {\n",
       "        text-align: right;\n",
       "    }\n",
       "</style>\n",
       "<table border=\"1\" class=\"dataframe\">\n",
       "  <thead>\n",
       "    <tr style=\"text-align: right;\">\n",
       "      <th></th>\n",
       "      <th>id</th>\n",
       "      <th>goal_usd</th>\n",
       "      <th>created_at</th>\n",
       "      <th>deadline</th>\n",
       "      <th>launched_at</th>\n",
       "      <th>state_changed_at</th>\n",
       "      <th>sub_category</th>\n",
       "      <th>blurb</th>\n",
       "      <th>state</th>\n",
       "      <th>success</th>\n",
       "      <th>...</th>\n",
       "      <th>main_category_Film &amp; Video</th>\n",
       "      <th>main_category_Food</th>\n",
       "      <th>main_category_Games</th>\n",
       "      <th>main_category_Journalism</th>\n",
       "      <th>main_category_Music</th>\n",
       "      <th>main_category_Photography</th>\n",
       "      <th>main_category_Publishing</th>\n",
       "      <th>main_category_Technology</th>\n",
       "      <th>main_category_Theater</th>\n",
       "      <th>desc_length</th>\n",
       "    </tr>\n",
       "  </thead>\n",
       "  <tbody>\n",
       "    <tr>\n",
       "      <th>87886</th>\n",
       "      <td>1062825209</td>\n",
       "      <td>3000.000000</td>\n",
       "      <td>2016-11-26 20:49:30</td>\n",
       "      <td>2017-01-08 10:49:42</td>\n",
       "      <td>2016-12-09 10:49:42</td>\n",
       "      <td>2017-01-08 10:49:42</td>\n",
       "      <td>Interactive Design</td>\n",
       "      <td>A comfortable and affordable EDC spinner toy C...</td>\n",
       "      <td>successful</td>\n",
       "      <td>1</td>\n",
       "      <td>...</td>\n",
       "      <td>0</td>\n",
       "      <td>0</td>\n",
       "      <td>0</td>\n",
       "      <td>0</td>\n",
       "      <td>0</td>\n",
       "      <td>0</td>\n",
       "      <td>0</td>\n",
       "      <td>0</td>\n",
       "      <td>0</td>\n",
       "      <td>21</td>\n",
       "    </tr>\n",
       "    <tr>\n",
       "      <th>30582</th>\n",
       "      <td>1027909300</td>\n",
       "      <td>7500.000000</td>\n",
       "      <td>2016-06-15 14:58:21</td>\n",
       "      <td>2016-11-17 16:19:03</td>\n",
       "      <td>2016-10-18 15:19:03</td>\n",
       "      <td>2016-11-17 16:19:03</td>\n",
       "      <td>Woodworking</td>\n",
       "      <td>Show off your individuality with a custom magn...</td>\n",
       "      <td>successful</td>\n",
       "      <td>1</td>\n",
       "      <td>...</td>\n",
       "      <td>0</td>\n",
       "      <td>0</td>\n",
       "      <td>0</td>\n",
       "      <td>0</td>\n",
       "      <td>0</td>\n",
       "      <td>0</td>\n",
       "      <td>0</td>\n",
       "      <td>0</td>\n",
       "      <td>0</td>\n",
       "      <td>20</td>\n",
       "    </tr>\n",
       "    <tr>\n",
       "      <th>179570</th>\n",
       "      <td>815403127</td>\n",
       "      <td>79357.133700</td>\n",
       "      <td>2015-06-18 09:49:04</td>\n",
       "      <td>2015-07-22 17:28:23</td>\n",
       "      <td>2015-06-22 17:28:23</td>\n",
       "      <td>2015-07-22 17:28:23</td>\n",
       "      <td>Public Art</td>\n",
       "      <td>Eveil artistique 'à 4 roues' pour enfants, per...</td>\n",
       "      <td>failed</td>\n",
       "      <td>0</td>\n",
       "      <td>...</td>\n",
       "      <td>0</td>\n",
       "      <td>0</td>\n",
       "      <td>0</td>\n",
       "      <td>0</td>\n",
       "      <td>0</td>\n",
       "      <td>0</td>\n",
       "      <td>0</td>\n",
       "      <td>0</td>\n",
       "      <td>0</td>\n",
       "      <td>12</td>\n",
       "    </tr>\n",
       "    <tr>\n",
       "      <th>62364</th>\n",
       "      <td>807396059</td>\n",
       "      <td>2046.119535</td>\n",
       "      <td>2020-01-28 17:32:14</td>\n",
       "      <td>2020-03-06 22:00:00</td>\n",
       "      <td>2020-02-12 12:21:41</td>\n",
       "      <td>2020-03-06 22:00:00</td>\n",
       "      <td>Shorts</td>\n",
       "      <td>A short graduation film about a child as a mod...</td>\n",
       "      <td>successful</td>\n",
       "      <td>1</td>\n",
       "      <td>...</td>\n",
       "      <td>1</td>\n",
       "      <td>0</td>\n",
       "      <td>0</td>\n",
       "      <td>0</td>\n",
       "      <td>0</td>\n",
       "      <td>0</td>\n",
       "      <td>0</td>\n",
       "      <td>0</td>\n",
       "      <td>0</td>\n",
       "      <td>23</td>\n",
       "    </tr>\n",
       "    <tr>\n",
       "      <th>43670</th>\n",
       "      <td>1963840598</td>\n",
       "      <td>7642.089825</td>\n",
       "      <td>2017-03-10 02:15:14</td>\n",
       "      <td>2017-07-22 13:59:00</td>\n",
       "      <td>2017-06-22 12:32:08</td>\n",
       "      <td>2017-07-22 13:59:00</td>\n",
       "      <td>Children's Books</td>\n",
       "      <td>Jerome's Gift is a beautifully illustrated med...</td>\n",
       "      <td>successful</td>\n",
       "      <td>1</td>\n",
       "      <td>...</td>\n",
       "      <td>0</td>\n",
       "      <td>0</td>\n",
       "      <td>0</td>\n",
       "      <td>0</td>\n",
       "      <td>0</td>\n",
       "      <td>0</td>\n",
       "      <td>1</td>\n",
       "      <td>0</td>\n",
       "      <td>0</td>\n",
       "      <td>19</td>\n",
       "    </tr>\n",
       "  </tbody>\n",
       "</table>\n",
       "<p>5 rows × 30 columns</p>\n",
       "</div>"
      ],
      "text/plain": [
       "                id      goal_usd          created_at            deadline  \\\n",
       "87886   1062825209   3000.000000 2016-11-26 20:49:30 2017-01-08 10:49:42   \n",
       "30582   1027909300   7500.000000 2016-06-15 14:58:21 2016-11-17 16:19:03   \n",
       "179570   815403127  79357.133700 2015-06-18 09:49:04 2015-07-22 17:28:23   \n",
       "62364    807396059   2046.119535 2020-01-28 17:32:14 2020-03-06 22:00:00   \n",
       "43670   1963840598   7642.089825 2017-03-10 02:15:14 2017-07-22 13:59:00   \n",
       "\n",
       "               launched_at     state_changed_at        sub_category  \\\n",
       "87886  2016-12-09 10:49:42  2017-01-08 10:49:42  Interactive Design   \n",
       "30582  2016-10-18 15:19:03  2016-11-17 16:19:03         Woodworking   \n",
       "179570 2015-06-22 17:28:23  2015-07-22 17:28:23          Public Art   \n",
       "62364  2020-02-12 12:21:41  2020-03-06 22:00:00              Shorts   \n",
       "43670  2017-06-22 12:32:08  2017-07-22 13:59:00    Children's Books   \n",
       "\n",
       "                                                    blurb       state  \\\n",
       "87886   A comfortable and affordable EDC spinner toy C...  successful   \n",
       "30582   Show off your individuality with a custom magn...  successful   \n",
       "179570  Eveil artistique 'à 4 roues' pour enfants, per...      failed   \n",
       "62364   A short graduation film about a child as a mod...  successful   \n",
       "43670   Jerome's Gift is a beautifully illustrated med...  successful   \n",
       "\n",
       "        success  ...  main_category_Film & Video  main_category_Food  \\\n",
       "87886         1  ...                           0                   0   \n",
       "30582         1  ...                           0                   0   \n",
       "179570        0  ...                           0                   0   \n",
       "62364         1  ...                           1                   0   \n",
       "43670         1  ...                           0                   0   \n",
       "\n",
       "        main_category_Games  main_category_Journalism  main_category_Music  \\\n",
       "87886                     0                         0                    0   \n",
       "30582                     0                         0                    0   \n",
       "179570                    0                         0                    0   \n",
       "62364                     0                         0                    0   \n",
       "43670                     0                         0                    0   \n",
       "\n",
       "        main_category_Photography  main_category_Publishing  \\\n",
       "87886                           0                         0   \n",
       "30582                           0                         0   \n",
       "179570                          0                         0   \n",
       "62364                           0                         0   \n",
       "43670                           0                         1   \n",
       "\n",
       "        main_category_Technology  main_category_Theater  desc_length  \n",
       "87886                          0                      0           21  \n",
       "30582                          0                      0           20  \n",
       "179570                         0                      0           12  \n",
       "62364                          0                      0           23  \n",
       "43670                          0                      0           19  \n",
       "\n",
       "[5 rows x 30 columns]"
      ]
     },
     "execution_count": 21,
     "metadata": {},
     "output_type": "execute_result"
    }
   ],
   "source": [
    "df.sample(5)"
   ]
  },
  {
   "cell_type": "code",
   "execution_count": 22,
   "id": "instructional-purple",
   "metadata": {},
   "outputs": [
    {
     "data": {
      "text/plain": [
       "Index(['id', 'goal_usd', 'created_at', 'deadline', 'launched_at',\n",
       "       'state_changed_at', 'sub_category', 'blurb', 'state', 'success',\n",
       "       'country_US', 'cam_duration', 'prep_duration', 'spotlight_True',\n",
       "       'staff_pick_True', 'main_category_Comics', 'main_category_Crafts',\n",
       "       'main_category_Dance', 'main_category_Design', 'main_category_Fashion',\n",
       "       'main_category_Film & Video', 'main_category_Food',\n",
       "       'main_category_Games', 'main_category_Journalism',\n",
       "       'main_category_Music', 'main_category_Photography',\n",
       "       'main_category_Publishing', 'main_category_Technology',\n",
       "       'main_category_Theater', 'desc_length'],\n",
       "      dtype='object')"
      ]
     },
     "execution_count": 22,
     "metadata": {},
     "output_type": "execute_result"
    }
   ],
   "source": [
    "df.columns"
   ]
  },
  {
   "cell_type": "code",
   "execution_count": 23,
   "id": "italic-trash",
   "metadata": {},
   "outputs": [
    {
     "data": {
      "text/html": [
       "<div>\n",
       "<style scoped>\n",
       "    .dataframe tbody tr th:only-of-type {\n",
       "        vertical-align: middle;\n",
       "    }\n",
       "\n",
       "    .dataframe tbody tr th {\n",
       "        vertical-align: top;\n",
       "    }\n",
       "\n",
       "    .dataframe thead th {\n",
       "        text-align: right;\n",
       "    }\n",
       "</style>\n",
       "<table border=\"1\" class=\"dataframe\">\n",
       "  <thead>\n",
       "    <tr style=\"text-align: right;\">\n",
       "      <th></th>\n",
       "      <th>success</th>\n",
       "      <th>goal_usd</th>\n",
       "      <th>country_US</th>\n",
       "      <th>cam_duration</th>\n",
       "      <th>prep_duration</th>\n",
       "      <th>desc_length</th>\n",
       "      <th>staff_pick_True</th>\n",
       "      <th>main_category_Comics</th>\n",
       "      <th>main_category_Crafts</th>\n",
       "      <th>main_category_Dance</th>\n",
       "      <th>...</th>\n",
       "      <th>main_category_Fashion</th>\n",
       "      <th>main_category_Film &amp; Video</th>\n",
       "      <th>main_category_Food</th>\n",
       "      <th>main_category_Games</th>\n",
       "      <th>main_category_Journalism</th>\n",
       "      <th>main_category_Music</th>\n",
       "      <th>main_category_Photography</th>\n",
       "      <th>main_category_Publishing</th>\n",
       "      <th>main_category_Technology</th>\n",
       "      <th>main_category_Theater</th>\n",
       "    </tr>\n",
       "  </thead>\n",
       "  <tbody>\n",
       "    <tr>\n",
       "      <th>0</th>\n",
       "      <td>1</td>\n",
       "      <td>5227.00000</td>\n",
       "      <td>1</td>\n",
       "      <td>29</td>\n",
       "      <td>16</td>\n",
       "      <td>21</td>\n",
       "      <td>0</td>\n",
       "      <td>0</td>\n",
       "      <td>0</td>\n",
       "      <td>0</td>\n",
       "      <td>...</td>\n",
       "      <td>0</td>\n",
       "      <td>0</td>\n",
       "      <td>1</td>\n",
       "      <td>0</td>\n",
       "      <td>0</td>\n",
       "      <td>0</td>\n",
       "      <td>0</td>\n",
       "      <td>0</td>\n",
       "      <td>0</td>\n",
       "      <td>0</td>\n",
       "    </tr>\n",
       "    <tr>\n",
       "      <th>1</th>\n",
       "      <td>0</td>\n",
       "      <td>47878.24160</td>\n",
       "      <td>0</td>\n",
       "      <td>30</td>\n",
       "      <td>0</td>\n",
       "      <td>22</td>\n",
       "      <td>0</td>\n",
       "      <td>0</td>\n",
       "      <td>0</td>\n",
       "      <td>0</td>\n",
       "      <td>...</td>\n",
       "      <td>0</td>\n",
       "      <td>1</td>\n",
       "      <td>0</td>\n",
       "      <td>0</td>\n",
       "      <td>0</td>\n",
       "      <td>0</td>\n",
       "      <td>0</td>\n",
       "      <td>0</td>\n",
       "      <td>0</td>\n",
       "      <td>0</td>\n",
       "    </tr>\n",
       "    <tr>\n",
       "      <th>2</th>\n",
       "      <td>1</td>\n",
       "      <td>1000.00000</td>\n",
       "      <td>1</td>\n",
       "      <td>30</td>\n",
       "      <td>128</td>\n",
       "      <td>26</td>\n",
       "      <td>0</td>\n",
       "      <td>0</td>\n",
       "      <td>0</td>\n",
       "      <td>0</td>\n",
       "      <td>...</td>\n",
       "      <td>0</td>\n",
       "      <td>0</td>\n",
       "      <td>0</td>\n",
       "      <td>1</td>\n",
       "      <td>0</td>\n",
       "      <td>0</td>\n",
       "      <td>0</td>\n",
       "      <td>0</td>\n",
       "      <td>0</td>\n",
       "      <td>0</td>\n",
       "    </tr>\n",
       "    <tr>\n",
       "      <th>3</th>\n",
       "      <td>1</td>\n",
       "      <td>1031.74888</td>\n",
       "      <td>0</td>\n",
       "      <td>30</td>\n",
       "      <td>17</td>\n",
       "      <td>4</td>\n",
       "      <td>0</td>\n",
       "      <td>0</td>\n",
       "      <td>0</td>\n",
       "      <td>0</td>\n",
       "      <td>...</td>\n",
       "      <td>0</td>\n",
       "      <td>0</td>\n",
       "      <td>0</td>\n",
       "      <td>1</td>\n",
       "      <td>0</td>\n",
       "      <td>0</td>\n",
       "      <td>0</td>\n",
       "      <td>0</td>\n",
       "      <td>0</td>\n",
       "      <td>0</td>\n",
       "    </tr>\n",
       "    <tr>\n",
       "      <th>4</th>\n",
       "      <td>1</td>\n",
       "      <td>550.00000</td>\n",
       "      <td>1</td>\n",
       "      <td>30</td>\n",
       "      <td>4</td>\n",
       "      <td>25</td>\n",
       "      <td>0</td>\n",
       "      <td>0</td>\n",
       "      <td>0</td>\n",
       "      <td>0</td>\n",
       "      <td>...</td>\n",
       "      <td>0</td>\n",
       "      <td>0</td>\n",
       "      <td>0</td>\n",
       "      <td>0</td>\n",
       "      <td>0</td>\n",
       "      <td>0</td>\n",
       "      <td>0</td>\n",
       "      <td>0</td>\n",
       "      <td>0</td>\n",
       "      <td>0</td>\n",
       "    </tr>\n",
       "  </tbody>\n",
       "</table>\n",
       "<p>5 rows × 21 columns</p>\n",
       "</div>"
      ],
      "text/plain": [
       "   success     goal_usd  country_US  cam_duration  prep_duration  desc_length  \\\n",
       "0        1   5227.00000           1            29             16           21   \n",
       "1        0  47878.24160           0            30              0           22   \n",
       "2        1   1000.00000           1            30            128           26   \n",
       "3        1   1031.74888           0            30             17            4   \n",
       "4        1    550.00000           1            30              4           25   \n",
       "\n",
       "   staff_pick_True  main_category_Comics  main_category_Crafts  \\\n",
       "0                0                     0                     0   \n",
       "1                0                     0                     0   \n",
       "2                0                     0                     0   \n",
       "3                0                     0                     0   \n",
       "4                0                     0                     0   \n",
       "\n",
       "   main_category_Dance  ...  main_category_Fashion  \\\n",
       "0                    0  ...                      0   \n",
       "1                    0  ...                      0   \n",
       "2                    0  ...                      0   \n",
       "3                    0  ...                      0   \n",
       "4                    0  ...                      0   \n",
       "\n",
       "   main_category_Film & Video  main_category_Food  main_category_Games  \\\n",
       "0                           0                   1                    0   \n",
       "1                           1                   0                    0   \n",
       "2                           0                   0                    1   \n",
       "3                           0                   0                    1   \n",
       "4                           0                   0                    0   \n",
       "\n",
       "   main_category_Journalism  main_category_Music  main_category_Photography  \\\n",
       "0                         0                    0                          0   \n",
       "1                         0                    0                          0   \n",
       "2                         0                    0                          0   \n",
       "3                         0                    0                          0   \n",
       "4                         0                    0                          0   \n",
       "\n",
       "   main_category_Publishing  main_category_Technology  main_category_Theater  \n",
       "0                         0                         0                      0  \n",
       "1                         0                         0                      0  \n",
       "2                         0                         0                      0  \n",
       "3                         0                         0                      0  \n",
       "4                         0                         0                      0  \n",
       "\n",
       "[5 rows x 21 columns]"
      ]
     },
     "execution_count": 23,
     "metadata": {},
     "output_type": "execute_result"
    }
   ],
   "source": [
    "kickstarter = df[['success', 'goal_usd', 'country_US', 'cam_duration', 'prep_duration',\n",
    "                  'desc_length', 'staff_pick_True', 'main_category_Comics', \n",
    "                  'main_category_Crafts', 'main_category_Dance', 'main_category_Design',\n",
    "                  'main_category_Fashion', 'main_category_Film & Video', 'main_category_Food',\n",
    "                  'main_category_Games', 'main_category_Journalism','main_category_Music', \n",
    "                  'main_category_Photography', 'main_category_Publishing', \n",
    "                  'main_category_Technology', 'main_category_Theater']]\n",
    "kickstarter.head()"
   ]
  },
  {
   "cell_type": "code",
   "execution_count": 24,
   "id": "blank-beauty",
   "metadata": {},
   "outputs": [
    {
     "data": {
      "text/plain": [
       "(189162, 21)"
      ]
     },
     "execution_count": 24,
     "metadata": {},
     "output_type": "execute_result"
    }
   ],
   "source": [
    "kickstarter.shape"
   ]
  },
  {
   "cell_type": "code",
   "execution_count": 26,
   "id": "christian-investing",
   "metadata": {},
   "outputs": [],
   "source": [
    "kickstarter.to_csv('../data/model_ready.csv', index=False)"
   ]
  },
  {
   "cell_type": "code",
   "execution_count": null,
   "id": "brutal-fishing",
   "metadata": {},
   "outputs": [],
   "source": []
  }
 ],
 "metadata": {
  "kernelspec": {
   "display_name": "Python [conda env:metis] *",
   "language": "python",
   "name": "conda-env-metis-py"
  },
  "language_info": {
   "codemirror_mode": {
    "name": "ipython",
    "version": 3
   },
   "file_extension": ".py",
   "mimetype": "text/x-python",
   "name": "python",
   "nbconvert_exporter": "python",
   "pygments_lexer": "ipython3",
   "version": "3.8.8"
  }
 },
 "nbformat": 4,
 "nbformat_minor": 5
}
