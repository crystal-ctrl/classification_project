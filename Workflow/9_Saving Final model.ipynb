{
 "cells": [
  {
   "cell_type": "code",
   "execution_count": 19,
   "id": "vocal-journalism",
   "metadata": {},
   "outputs": [],
   "source": [
    "import numpy as np\n",
    "import pandas as pd\n",
    "import xgboost as xgb\n",
    "from xgboost import XGBClassifier\n",
    "import pickle\n",
    "from sklearn.model_selection import train_test_split"
   ]
  },
  {
   "cell_type": "code",
   "execution_count": 3,
   "id": "handmade-checklist",
   "metadata": {},
   "outputs": [
    {
     "data": {
      "text/plain": [
       "Index(['success', 'goal_usd', 'country_US', 'cam_duration', 'prep_duration',\n",
       "       'desc_length', 'staff_pick_True', 'Comics', 'Crafts', 'Dance', 'Design',\n",
       "       'Fashion', 'Film_Video', 'Food', 'Games', 'Journalism', 'Music',\n",
       "       'Photography', 'Publishing', 'Technology', 'Theater'],\n",
       "      dtype='object')"
      ]
     },
     "execution_count": 3,
     "metadata": {},
     "output_type": "execute_result"
    }
   ],
   "source": [
    "df = pd.read_csv('../data/model_ready.csv')\n",
    "df.rename(columns={'main_category_Comics': 'Comics',\n",
    "                   'main_category_Crafts': 'Crafts', \n",
    "                   'main_category_Dance': 'Dance', \n",
    "                   'main_category_Design': 'Design',\n",
    "                   'main_category_Fashion': 'Fashion', \n",
    "                   'main_category_Film & Video': 'Film_Video',\n",
    "                   'main_category_Food': 'Food', \n",
    "                   'main_category_Games': 'Games', \n",
    "                   'main_category_Journalism': 'Journalism',\n",
    "                   'main_category_Music': 'Music', \n",
    "                   'main_category_Photography': 'Photography',\n",
    "                   'main_category_Publishing': 'Publishing', \n",
    "                   'main_category_Technology': 'Technology',\n",
    "                   'main_category_Theater': 'Theater'}, inplace=True)\n",
    "df.columns"
   ]
  },
  {
   "cell_type": "code",
   "execution_count": 8,
   "id": "aquatic-opinion",
   "metadata": {},
   "outputs": [],
   "source": [
    "X, y = df.drop(['success'], axis=1), df.success\n",
    "X_train, X_test, y_train, y_test = train_test_split(X, y, test_size=0.2, random_state=42)"
   ]
  },
  {
   "cell_type": "code",
   "execution_count": 9,
   "id": "after-psychiatry",
   "metadata": {},
   "outputs": [],
   "source": [
    "xgBoost = XGBClassifier(base_score=0.5, booster='gbtree', colsample_bylevel=1,\n",
    "              colsample_bynode=1, colsample_bytree=1, gamma=0, gpu_id=-1,\n",
    "              importance_type='gain', interaction_constraints='',\n",
    "              learning_rate=0.300000012, max_delta_step=0, max_depth=4,\n",
    "              min_child_weight=7, missing=None, monotone_constraints='()',\n",
    "              n_estimators=100, n_jobs=4, num_parallel_tree=1, random_state=0,\n",
    "              reg_alpha=0, reg_lambda=1, scale_pos_weight=1, subsample=1,\n",
    "              tree_method='exact', validate_parameters=1, verbosity=None)"
   ]
  },
  {
   "cell_type": "code",
   "execution_count": 10,
   "id": "broke-arkansas",
   "metadata": {},
   "outputs": [
    {
     "name": "stderr",
     "output_type": "stream",
     "text": [
      "/Users/crystalhuang/anaconda3/envs/metis/lib/python3.8/site-packages/xgboost/sklearn.py:888: UserWarning: The use of label encoder in XGBClassifier is deprecated and will be removed in a future release. To remove this warning, do the following: 1) Pass option use_label_encoder=False when constructing XGBClassifier object; and 2) Encode your labels (y) as integers starting with 0, i.e. 0, 1, 2, ..., [num_class - 1].\n",
      "  warnings.warn(label_encoder_deprecation_msg, UserWarning)\n"
     ]
    },
    {
     "name": "stdout",
     "output_type": "stream",
     "text": [
      "[22:43:30] WARNING: /Users/runner/miniforge3/conda-bld/xgboost_1607604592557/work/src/learner.cc:1061: Starting in XGBoost 1.3.0, the default evaluation metric used with the objective 'binary:logistic' was changed from 'error' to 'logloss'. Explicitly set eval_metric if you'd like to restore the old behavior.\n"
     ]
    },
    {
     "data": {
      "text/plain": [
       "XGBClassifier(base_score=0.5, booster='gbtree', colsample_bylevel=1,\n",
       "              colsample_bynode=1, colsample_bytree=1, gamma=0, gpu_id=-1,\n",
       "              importance_type='gain', interaction_constraints='',\n",
       "              learning_rate=0.300000012, max_delta_step=0, max_depth=4,\n",
       "              min_child_weight=7, missing=None, monotone_constraints='()',\n",
       "              n_estimators=100, n_jobs=4, num_parallel_tree=1, random_state=0,\n",
       "              reg_alpha=0, reg_lambda=1, scale_pos_weight=1, subsample=1,\n",
       "              tree_method='exact', validate_parameters=1, verbosity=None)"
      ]
     },
     "execution_count": 10,
     "metadata": {},
     "output_type": "execute_result"
    }
   ],
   "source": [
    "xgBoost.fit(X_train,y_train)\n",
    "# xgBoost.score(X,y)"
   ]
  },
  {
   "cell_type": "code",
   "execution_count": 11,
   "id": "compliant-heritage",
   "metadata": {},
   "outputs": [],
   "source": [
    "#save model to pickle\n",
    "# filename = \"finalized_model.sav\"\n",
    "# pickle.dump(xgBoost, open(filename, 'wb'))"
   ]
  },
  {
   "cell_type": "code",
   "execution_count": 12,
   "id": "equal-brazilian",
   "metadata": {},
   "outputs": [
    {
     "name": "stdout",
     "output_type": "stream",
     "text": [
      "0.7500594718896202\n"
     ]
    }
   ],
   "source": [
    "# note for loading the model\n",
    "#import pickle\n",
    "# loaded_model = pickle.load(open(filename, 'rb'))\n",
    "# result = loaded_model.score(X_test, y_test)\n",
    "# print(result)"
   ]
  },
  {
   "cell_type": "code",
   "execution_count": 25,
   "id": "metric-assignment",
   "metadata": {},
   "outputs": [],
   "source": [
    "# pred = loaded_model.predict(X_test.iloc[:1])"
   ]
  },
  {
   "cell_type": "code",
   "execution_count": 26,
   "id": "arabic-shopping",
   "metadata": {},
   "outputs": [
    {
     "name": "stdout",
     "output_type": "stream",
     "text": [
      "[1]\n"
     ]
    }
   ],
   "source": [
    "print(pred)"
   ]
  },
  {
   "cell_type": "code",
   "execution_count": 32,
   "id": "desperate-coordinate",
   "metadata": {},
   "outputs": [
    {
     "name": "stdout",
     "output_type": "stream",
     "text": [
      "[1]\n"
     ]
    }
   ],
   "source": [
    "test=pd.DataFrame([[1000,1,30,10,20,1,0,0,0,0,0,0,1,0,0,0,0,0,0,0]], columns =['goal_usd',\n",
    "    'country_US', 'cam_duration', 'prep_duration', 'desc_length', 'staff_pick_True', 'Comics',\n",
    "    'Crafts', 'Dance', 'Design', 'Fashion', 'Film_Video', 'Food', 'Games', 'Journalism', \n",
    "    'Music', 'Photography', 'Publishing', 'Technology', 'Theater'], dtype=float)\n",
    "prediction = loaded_model.predict(test)\n",
    "print(prediction)"
   ]
  },
  {
   "cell_type": "code",
   "execution_count": null,
   "id": "pretty-badge",
   "metadata": {},
   "outputs": [],
   "source": [
    "\n"
   ]
  }
 ],
 "metadata": {
  "kernelspec": {
   "display_name": "Python [conda env:metis] *",
   "language": "python",
   "name": "conda-env-metis-py"
  },
  "language_info": {
   "codemirror_mode": {
    "name": "ipython",
    "version": 3
   },
   "file_extension": ".py",
   "mimetype": "text/x-python",
   "name": "python",
   "nbconvert_exporter": "python",
   "pygments_lexer": "ipython3",
   "version": "3.8.8"
  }
 },
 "nbformat": 4,
 "nbformat_minor": 5
}
